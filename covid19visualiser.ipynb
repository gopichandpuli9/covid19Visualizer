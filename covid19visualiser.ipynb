{
  "nbformat": 4,
  "nbformat_minor": 0,
  "metadata": {
    "colab": {
      "name": "covid19visualiser.ipynb",
      "provenance": []
    },
    "kernelspec": {
      "name": "python3",
      "display_name": "Python 3"
    }
  },
  "cells": [
    {
      "cell_type": "markdown",
      "metadata": {
        "id": "UUNHBeEkahcH",
        "colab_type": "text"
      },
      "source": [
        "Importing all essential python libraries"
      ]
    },
    {
      "cell_type": "code",
      "metadata": {
        "id": "-gBIVHUQaQI3",
        "colab_type": "code",
        "colab": {}
      },
      "source": [
        "import numpy as np\n",
        "import pandas as pd\n",
        "\n",
        "#for getting world map\n",
        "import folium"
      ],
      "execution_count": 1,
      "outputs": []
    },
    {
      "cell_type": "markdown",
      "metadata": {
        "id": "IsNsUgfjavo-",
        "colab_type": "text"
      },
      "source": [
        "Scraping Latitude and Longitude from quicksgs.com"
      ]
    },
    {
      "cell_type": "code",
      "metadata": {
        "id": "_O1yCDcOaxh_",
        "colab_type": "code",
        "colab": {
          "base_uri": "https://localhost:8080/",
          "height": 204
        },
        "outputId": "4e68ab78-271c-4299-d22d-519e9a883942"
      },
      "source": [
        "# read_html() method returns all the tables in the webpage (Internally beautifulSoup is executed)\n",
        "\n",
        "# Retreiving Latitude and Longitude coordinates\n",
        "info = pd.read_html(\"http://www.quickgs.com/latitudinal-and-longitudinal-extents-of-india-indian-states-and-cities/\") \n",
        "\n",
        "#convering the table data into DataFrame\n",
        "coordinates = pd.DataFrame(info[0])\n",
        "\n",
        "coordinates.head()"
      ],
      "execution_count": 2,
      "outputs": [
        {
          "output_type": "execute_result",
          "data": {
            "text/html": [
              "<div>\n",
              "<style scoped>\n",
              "    .dataframe tbody tr th:only-of-type {\n",
              "        vertical-align: middle;\n",
              "    }\n",
              "\n",
              "    .dataframe tbody tr th {\n",
              "        vertical-align: top;\n",
              "    }\n",
              "\n",
              "    .dataframe thead th {\n",
              "        text-align: right;\n",
              "    }\n",
              "</style>\n",
              "<table border=\"1\" class=\"dataframe\">\n",
              "  <thead>\n",
              "    <tr style=\"text-align: right;\">\n",
              "      <th></th>\n",
              "      <th>State</th>\n",
              "      <th>Latitude</th>\n",
              "      <th>Longitude</th>\n",
              "    </tr>\n",
              "  </thead>\n",
              "  <tbody>\n",
              "    <tr>\n",
              "      <th>0</th>\n",
              "      <td>Andhra Pradesh</td>\n",
              "      <td>15.91°N</td>\n",
              "      <td>79.74°E</td>\n",
              "    </tr>\n",
              "    <tr>\n",
              "      <th>1</th>\n",
              "      <td>Arunachal Pradesh</td>\n",
              "      <td>28.21°N</td>\n",
              "      <td>94.72°E</td>\n",
              "    </tr>\n",
              "    <tr>\n",
              "      <th>2</th>\n",
              "      <td>Assam</td>\n",
              "      <td>26.20°N</td>\n",
              "      <td>92.93°E</td>\n",
              "    </tr>\n",
              "    <tr>\n",
              "      <th>3</th>\n",
              "      <td>Bihar</td>\n",
              "      <td>25.09°N</td>\n",
              "      <td>85.31°E</td>\n",
              "    </tr>\n",
              "    <tr>\n",
              "      <th>4</th>\n",
              "      <td>Chhattisgarh</td>\n",
              "      <td>21.27°N</td>\n",
              "      <td>81.86°E</td>\n",
              "    </tr>\n",
              "  </tbody>\n",
              "</table>\n",
              "</div>"
            ],
            "text/plain": [
              "               State Latitude Longitude\n",
              "0     Andhra Pradesh  15.91°N   79.74°E\n",
              "1  Arunachal Pradesh  28.21°N   94.72°E\n",
              "2              Assam  26.20°N   92.93°E\n",
              "3              Bihar  25.09°N   85.31°E\n",
              "4       Chhattisgarh  21.27°N   81.86°E"
            ]
          },
          "metadata": {
            "tags": []
          },
          "execution_count": 2
        }
      ]
    },
    {
      "cell_type": "markdown",
      "metadata": {
        "id": "WJ3F_A3obATH",
        "colab_type": "text"
      },
      "source": [
        "Scraping live corona stats in INDIAN states from Wikipedia"
      ]
    },
    {
      "cell_type": "code",
      "metadata": {
        "id": "qMaB2Praa7Ye",
        "colab_type": "code",
        "colab": {
          "base_uri": "https://localhost:8080/",
          "height": 266
        },
        "outputId": "e66eb507-fdcf-4ce6-f90c-d030272dc0f9"
      },
      "source": [
        "coronastats = pd.read_html('https://en.wikipedia.org/wiki/COVID-19_pandemic_in_India#covid19-container',match='State/Union Territory')\n",
        "\n",
        "#Convert to DataFrame\n",
        "covid19 = pd.DataFrame(coronastats[0])\n",
        "\n",
        "covid19.head()"
      ],
      "execution_count": 3,
      "outputs": [
        {
          "output_type": "execute_result",
          "data": {
            "text/html": [
              "<div>\n",
              "<style scoped>\n",
              "    .dataframe tbody tr th:only-of-type {\n",
              "        vertical-align: middle;\n",
              "    }\n",
              "\n",
              "    .dataframe tbody tr th {\n",
              "        vertical-align: top;\n",
              "    }\n",
              "\n",
              "    .dataframe thead tr th {\n",
              "        text-align: left;\n",
              "    }\n",
              "</style>\n",
              "<table border=\"1\" class=\"dataframe\">\n",
              "  <thead>\n",
              "    <tr>\n",
              "      <th></th>\n",
              "      <th colspan=\"9\" halign=\"left\">[show all]viewtalkeditCOVID-19 pandemic in India by state and union territory</th>\n",
              "    </tr>\n",
              "    <tr>\n",
              "      <th></th>\n",
              "      <th>State/Union Territory</th>\n",
              "      <th>Cases[a]</th>\n",
              "      <th>Deaths</th>\n",
              "      <th>Recoveries</th>\n",
              "      <th>Active</th>\n",
              "      <th>Unnamed: 5_level_1</th>\n",
              "      <th>Unnamed: 6_level_1</th>\n",
              "      <th>Unnamed: 7_level_1</th>\n",
              "      <th>Unnamed: 8_level_1</th>\n",
              "    </tr>\n",
              "    <tr>\n",
              "      <th></th>\n",
              "      <th>35 / 36</th>\n",
              "      <th>4,930,236</th>\n",
              "      <th>80,776</th>\n",
              "      <th>3,859,399</th>\n",
              "      <th>990,061</th>\n",
              "      <th>Unnamed: 5_level_2</th>\n",
              "      <th>Unnamed: 6_level_2</th>\n",
              "      <th>Unnamed: 7_level_2</th>\n",
              "      <th>Unnamed: 8_level_2</th>\n",
              "    </tr>\n",
              "  </thead>\n",
              "  <tbody>\n",
              "    <tr>\n",
              "      <th>0</th>\n",
              "      <td>Andaman and Nicobar Islands</td>\n",
              "      <td>3557</td>\n",
              "      <td>52</td>\n",
              "      <td>3278</td>\n",
              "      <td>227</td>\n",
              "      <td>NaN</td>\n",
              "      <td>NaN</td>\n",
              "      <td>NaN</td>\n",
              "      <td>NaN</td>\n",
              "    </tr>\n",
              "    <tr>\n",
              "      <th>1</th>\n",
              "      <td>Andhra Pradesh</td>\n",
              "      <td>575079</td>\n",
              "      <td>4972</td>\n",
              "      <td>476903</td>\n",
              "      <td>93204</td>\n",
              "      <td>NaN</td>\n",
              "      <td>NaN</td>\n",
              "      <td>NaN</td>\n",
              "      <td>NaN</td>\n",
              "    </tr>\n",
              "    <tr>\n",
              "      <th>2</th>\n",
              "      <td>Arunachal Pradesh</td>\n",
              "      <td>6298</td>\n",
              "      <td>11</td>\n",
              "      <td>4531</td>\n",
              "      <td>1756</td>\n",
              "      <td>NaN</td>\n",
              "      <td>NaN</td>\n",
              "      <td>NaN</td>\n",
              "      <td>NaN</td>\n",
              "    </tr>\n",
              "    <tr>\n",
              "      <th>3</th>\n",
              "      <td>Assam</td>\n",
              "      <td>144,166[b]</td>\n",
              "      <td>482</td>\n",
              "      <td>115054</td>\n",
              "      <td>28630</td>\n",
              "      <td>NaN</td>\n",
              "      <td>NaN</td>\n",
              "      <td>NaN</td>\n",
              "      <td>NaN</td>\n",
              "    </tr>\n",
              "    <tr>\n",
              "      <th>4</th>\n",
              "      <td>Bihar</td>\n",
              "      <td>160366</td>\n",
              "      <td>831</td>\n",
              "      <td>145560</td>\n",
              "      <td>13975</td>\n",
              "      <td>NaN</td>\n",
              "      <td>NaN</td>\n",
              "      <td>NaN</td>\n",
              "      <td>NaN</td>\n",
              "    </tr>\n",
              "  </tbody>\n",
              "</table>\n",
              "</div>"
            ],
            "text/plain": [
              "  [show all]viewtalkeditCOVID-19 pandemic in India by state and union territory  ...                   \n",
              "                                                          State/Union Territory  ... Unnamed: 8_level_1\n",
              "                                                                        35 / 36  ... Unnamed: 8_level_2\n",
              "0                        Andaman and Nicobar Islands                             ...                NaN\n",
              "1                                     Andhra Pradesh                             ...                NaN\n",
              "2                                  Arunachal Pradesh                             ...                NaN\n",
              "3                                              Assam                             ...                NaN\n",
              "4                                              Bihar                             ...                NaN\n",
              "\n",
              "[5 rows x 9 columns]"
            ]
          },
          "metadata": {
            "tags": []
          },
          "execution_count": 3
        }
      ]
    },
    {
      "cell_type": "markdown",
      "metadata": {
        "id": "JfMVxIB7bMAu",
        "colab_type": "text"
      },
      "source": [
        "Data Cleaning and preparation"
      ]
    },
    {
      "cell_type": "code",
      "metadata": {
        "id": "H9NfT_35bNPA",
        "colab_type": "code",
        "colab": {
          "base_uri": "https://localhost:8080/",
          "height": 204
        },
        "outputId": "55135259-2457-4713-a98d-6792e03c78cd"
      },
      "source": [
        "def data_pre(cord):\n",
        "    return cord[0:5]\n",
        "coordinates['Latitude']  = coordinates['Latitude'].apply(data_pre).astype('float')\n",
        "coordinates['Longitude'] = coordinates['Longitude'].apply(data_pre).astype('float')\n",
        "coordinates.head()\n",
        "\n",
        "# cleaning Covid19 Dataframe\n",
        "\n",
        "# Removing unnecessary rows at the tail and Unnecessary columns\n",
        "covid19 = covid19.iloc[:-3,:-4]\n",
        "\n",
        "# Renaming Attribute Names for simplicity\n",
        "covid19.columns = ['State','Total cases','Deaths','Recoveries','Active cases']\n",
        "\n",
        "covid19.head()"
      ],
      "execution_count": 4,
      "outputs": [
        {
          "output_type": "execute_result",
          "data": {
            "text/html": [
              "<div>\n",
              "<style scoped>\n",
              "    .dataframe tbody tr th:only-of-type {\n",
              "        vertical-align: middle;\n",
              "    }\n",
              "\n",
              "    .dataframe tbody tr th {\n",
              "        vertical-align: top;\n",
              "    }\n",
              "\n",
              "    .dataframe thead th {\n",
              "        text-align: right;\n",
              "    }\n",
              "</style>\n",
              "<table border=\"1\" class=\"dataframe\">\n",
              "  <thead>\n",
              "    <tr style=\"text-align: right;\">\n",
              "      <th></th>\n",
              "      <th>State</th>\n",
              "      <th>Total cases</th>\n",
              "      <th>Deaths</th>\n",
              "      <th>Recoveries</th>\n",
              "      <th>Active cases</th>\n",
              "    </tr>\n",
              "  </thead>\n",
              "  <tbody>\n",
              "    <tr>\n",
              "      <th>0</th>\n",
              "      <td>Andaman and Nicobar Islands</td>\n",
              "      <td>3557</td>\n",
              "      <td>52</td>\n",
              "      <td>3278</td>\n",
              "      <td>227</td>\n",
              "    </tr>\n",
              "    <tr>\n",
              "      <th>1</th>\n",
              "      <td>Andhra Pradesh</td>\n",
              "      <td>575079</td>\n",
              "      <td>4972</td>\n",
              "      <td>476903</td>\n",
              "      <td>93204</td>\n",
              "    </tr>\n",
              "    <tr>\n",
              "      <th>2</th>\n",
              "      <td>Arunachal Pradesh</td>\n",
              "      <td>6298</td>\n",
              "      <td>11</td>\n",
              "      <td>4531</td>\n",
              "      <td>1756</td>\n",
              "    </tr>\n",
              "    <tr>\n",
              "      <th>3</th>\n",
              "      <td>Assam</td>\n",
              "      <td>144,166[b]</td>\n",
              "      <td>482</td>\n",
              "      <td>115054</td>\n",
              "      <td>28630</td>\n",
              "    </tr>\n",
              "    <tr>\n",
              "      <th>4</th>\n",
              "      <td>Bihar</td>\n",
              "      <td>160366</td>\n",
              "      <td>831</td>\n",
              "      <td>145560</td>\n",
              "      <td>13975</td>\n",
              "    </tr>\n",
              "  </tbody>\n",
              "</table>\n",
              "</div>"
            ],
            "text/plain": [
              "                         State Total cases Deaths Recoveries Active cases\n",
              "0  Andaman and Nicobar Islands        3557     52       3278          227\n",
              "1               Andhra Pradesh      575079   4972     476903        93204\n",
              "2            Arunachal Pradesh        6298     11       4531         1756\n",
              "3                        Assam  144,166[b]    482     115054        28630\n",
              "4                        Bihar      160366    831     145560        13975"
            ]
          },
          "metadata": {
            "tags": []
          },
          "execution_count": 4
        }
      ]
    },
    {
      "cell_type": "code",
      "metadata": {
        "id": "hqhlCbeibino",
        "colab_type": "code",
        "colab": {
          "base_uri": "https://localhost:8080/",
          "height": 204
        },
        "outputId": "ed05ae59-60eb-4171-eeee-1d85ef7fd46f"
      },
      "source": [
        "#Merging the tables covid19 and coordinates \n",
        "final_data = pd.merge(coordinates, covid19, how ='inner', on ='State')\n",
        "final_data.head()"
      ],
      "execution_count": 5,
      "outputs": [
        {
          "output_type": "execute_result",
          "data": {
            "text/html": [
              "<div>\n",
              "<style scoped>\n",
              "    .dataframe tbody tr th:only-of-type {\n",
              "        vertical-align: middle;\n",
              "    }\n",
              "\n",
              "    .dataframe tbody tr th {\n",
              "        vertical-align: top;\n",
              "    }\n",
              "\n",
              "    .dataframe thead th {\n",
              "        text-align: right;\n",
              "    }\n",
              "</style>\n",
              "<table border=\"1\" class=\"dataframe\">\n",
              "  <thead>\n",
              "    <tr style=\"text-align: right;\">\n",
              "      <th></th>\n",
              "      <th>State</th>\n",
              "      <th>Latitude</th>\n",
              "      <th>Longitude</th>\n",
              "      <th>Total cases</th>\n",
              "      <th>Deaths</th>\n",
              "      <th>Recoveries</th>\n",
              "      <th>Active cases</th>\n",
              "    </tr>\n",
              "  </thead>\n",
              "  <tbody>\n",
              "    <tr>\n",
              "      <th>0</th>\n",
              "      <td>Andhra Pradesh</td>\n",
              "      <td>15.91</td>\n",
              "      <td>79.74</td>\n",
              "      <td>575079</td>\n",
              "      <td>4972</td>\n",
              "      <td>476903</td>\n",
              "      <td>93204</td>\n",
              "    </tr>\n",
              "    <tr>\n",
              "      <th>1</th>\n",
              "      <td>Arunachal Pradesh</td>\n",
              "      <td>28.21</td>\n",
              "      <td>94.72</td>\n",
              "      <td>6298</td>\n",
              "      <td>11</td>\n",
              "      <td>4531</td>\n",
              "      <td>1756</td>\n",
              "    </tr>\n",
              "    <tr>\n",
              "      <th>2</th>\n",
              "      <td>Assam</td>\n",
              "      <td>26.20</td>\n",
              "      <td>92.93</td>\n",
              "      <td>144,166[b]</td>\n",
              "      <td>482</td>\n",
              "      <td>115054</td>\n",
              "      <td>28630</td>\n",
              "    </tr>\n",
              "    <tr>\n",
              "      <th>3</th>\n",
              "      <td>Bihar</td>\n",
              "      <td>25.09</td>\n",
              "      <td>85.31</td>\n",
              "      <td>160366</td>\n",
              "      <td>831</td>\n",
              "      <td>145560</td>\n",
              "      <td>13975</td>\n",
              "    </tr>\n",
              "    <tr>\n",
              "      <th>4</th>\n",
              "      <td>Chhattisgarh</td>\n",
              "      <td>21.27</td>\n",
              "      <td>81.86</td>\n",
              "      <td>67327</td>\n",
              "      <td>573</td>\n",
              "      <td>33109</td>\n",
              "      <td>33645</td>\n",
              "    </tr>\n",
              "  </tbody>\n",
              "</table>\n",
              "</div>"
            ],
            "text/plain": [
              "               State  Latitude  Longitude  ... Deaths Recoveries Active cases\n",
              "0     Andhra Pradesh     15.91      79.74  ...   4972     476903        93204\n",
              "1  Arunachal Pradesh     28.21      94.72  ...     11       4531         1756\n",
              "2              Assam     26.20      92.93  ...    482     115054        28630\n",
              "3              Bihar     25.09      85.31  ...    831     145560        13975\n",
              "4       Chhattisgarh     21.27      81.86  ...    573      33109        33645\n",
              "\n",
              "[5 rows x 7 columns]"
            ]
          },
          "metadata": {
            "tags": []
          },
          "execution_count": 5
        }
      ]
    },
    {
      "cell_type": "markdown",
      "metadata": {
        "id": "pEdEqg0vbq3Z",
        "colab_type": "text"
      },
      "source": [
        "Here we go with the final step to Visualize this data!"
      ]
    },
    {
      "cell_type": "markdown",
      "metadata": {
        "id": "OjkvhGHYbuWC",
        "colab_type": "text"
      },
      "source": [
        "we use folium (python library) to depict all the data above on the INDIA map."
      ]
    },
    {
      "cell_type": "code",
      "metadata": {
        "id": "NQ-HT0zHbp05",
        "colab_type": "code",
        "colab": {}
      },
      "source": [
        "india = folium.Map(location = [20.5937,78.9629],zoom_start=4.5)\n",
        "#adding to map\n",
        "for state,lat,long,total_cases,Death,Recov,Active in zip(list(final_data['State']),list(final_data['Latitude']),list(final_data['Longitude']),list(final_data['Total cases']),list(final_data['Deaths']),list(final_data['Recoveries']),list(final_data['Active cases'])):\n",
        "    #for creating circle marker\n",
        "    folium.CircleMarker(location = [lat,long],\n",
        "                       radius = 5,\n",
        "                       color='red',\n",
        "                       fill = True,\n",
        "                       fill_color=\"red\").add_to(india)\n",
        "    #for creating marker\n",
        "    folium.Marker(location = [lat,long],\n",
        "                  # adding information that need to be displayed on popup\n",
        "                  popup=folium.Popup(('<strong><b>State  : '+state+'</strong> <br>' +\n",
        "                    '<strong><b>Total Cases : '+total_cases+'</striong><br>' +\n",
        "                    '<strong><font color= red>Deaths : </font>'+Death+'</striong><br>' +\n",
        "                    '<strong><font color=green>Recoveries : </font>'+Recov+'</striong><br>' +\n",
        "                    '<strong><b>Active Cases : '+Active+'</striong>' ),max_width=200)).add_to(india)\n",
        "    #to show the map"
      ],
      "execution_count": 7,
      "outputs": []
    },
    {
      "cell_type": "code",
      "metadata": {
        "id": "1rfcSOMOb7gz",
        "colab_type": "code",
        "colab": {
          "base_uri": "https://localhost:8080/",
          "height": 808
        },
        "outputId": "0a460c18-74bf-49d8-dea5-0ca3153ee7f0"
      },
      "source": [
        "india"
      ],
      "execution_count": 8,
      "outputs": [
        {
          "output_type": "execute_result",
          "data": {
            "text/html": [
              "<div style=\"width:100%;\"><div style=\"position:relative;width:100%;height:0;padding-bottom:60%;\"><span style=\"color:#565656\">Make this Notebook Trusted to load map: File -> Trust Notebook</span><iframe src=\"about:blank\" style=\"position:absolute;width:100%;height:100%;left:0;top:0;border:none !important;\" data-html=PCFET0NUWVBFIGh0bWw+CjxoZWFkPiAgICAKICAgIDxtZXRhIGh0dHAtZXF1aXY9ImNvbnRlbnQtdHlwZSIgY29udGVudD0idGV4dC9odG1sOyBjaGFyc2V0PVVURi04IiAvPgogICAgPHNjcmlwdD5MX1BSRUZFUl9DQU5WQVM9ZmFsc2U7IExfTk9fVE9VQ0g9ZmFsc2U7IExfRElTQUJMRV8zRD1mYWxzZTs8L3NjcmlwdD4KICAgIDxzY3JpcHQgc3JjPSJodHRwczovL2Nkbi5qc2RlbGl2ci5uZXQvbnBtL2xlYWZsZXRAMS40LjAvZGlzdC9sZWFmbGV0LmpzIj48L3NjcmlwdD4KICAgIDxzY3JpcHQgc3JjPSJodHRwczovL2NvZGUuanF1ZXJ5LmNvbS9qcXVlcnktMS4xMi40Lm1pbi5qcyI+PC9zY3JpcHQ+CiAgICA8c2NyaXB0IHNyYz0iaHR0cHM6Ly9tYXhjZG4uYm9vdHN0cmFwY2RuLmNvbS9ib290c3RyYXAvMy4yLjAvanMvYm9vdHN0cmFwLm1pbi5qcyI+PC9zY3JpcHQ+CiAgICA8c2NyaXB0IHNyYz0iaHR0cHM6Ly9jZG5qcy5jbG91ZGZsYXJlLmNvbS9hamF4L2xpYnMvTGVhZmxldC5hd2Vzb21lLW1hcmtlcnMvMi4wLjIvbGVhZmxldC5hd2Vzb21lLW1hcmtlcnMuanMiPjwvc2NyaXB0PgogICAgPGxpbmsgcmVsPSJzdHlsZXNoZWV0IiBocmVmPSJodHRwczovL2Nkbi5qc2RlbGl2ci5uZXQvbnBtL2xlYWZsZXRAMS40LjAvZGlzdC9sZWFmbGV0LmNzcyIvPgogICAgPGxpbmsgcmVsPSJzdHlsZXNoZWV0IiBocmVmPSJodHRwczovL21heGNkbi5ib290c3RyYXBjZG4uY29tL2Jvb3RzdHJhcC8zLjIuMC9jc3MvYm9vdHN0cmFwLm1pbi5jc3MiLz4KICAgIDxsaW5rIHJlbD0ic3R5bGVzaGVldCIgaHJlZj0iaHR0cHM6Ly9tYXhjZG4uYm9vdHN0cmFwY2RuLmNvbS9ib290c3RyYXAvMy4yLjAvY3NzL2Jvb3RzdHJhcC10aGVtZS5taW4uY3NzIi8+CiAgICA8bGluayByZWw9InN0eWxlc2hlZXQiIGhyZWY9Imh0dHBzOi8vbWF4Y2RuLmJvb3RzdHJhcGNkbi5jb20vZm9udC1hd2Vzb21lLzQuNi4zL2Nzcy9mb250LWF3ZXNvbWUubWluLmNzcyIvPgogICAgPGxpbmsgcmVsPSJzdHlsZXNoZWV0IiBocmVmPSJodHRwczovL2NkbmpzLmNsb3VkZmxhcmUuY29tL2FqYXgvbGlicy9MZWFmbGV0LmF3ZXNvbWUtbWFya2Vycy8yLjAuMi9sZWFmbGV0LmF3ZXNvbWUtbWFya2Vycy5jc3MiLz4KICAgIDxsaW5rIHJlbD0ic3R5bGVzaGVldCIgaHJlZj0iaHR0cHM6Ly9yYXdjZG4uZ2l0aGFjay5jb20vcHl0aG9uLXZpc3VhbGl6YXRpb24vZm9saXVtL21hc3Rlci9mb2xpdW0vdGVtcGxhdGVzL2xlYWZsZXQuYXdlc29tZS5yb3RhdGUuY3NzIi8+CiAgICA8c3R5bGU+aHRtbCwgYm9keSB7d2lkdGg6IDEwMCU7aGVpZ2h0OiAxMDAlO21hcmdpbjogMDtwYWRkaW5nOiAwO308L3N0eWxlPgogICAgPHN0eWxlPiNtYXAge3Bvc2l0aW9uOmFic29sdXRlO3RvcDowO2JvdHRvbTowO3JpZ2h0OjA7bGVmdDowO308L3N0eWxlPgogICAgCiAgICA8bWV0YSBuYW1lPSJ2aWV3cG9ydCIgY29udGVudD0id2lkdGg9ZGV2aWNlLXdpZHRoLAogICAgICAgIGluaXRpYWwtc2NhbGU9MS4wLCBtYXhpbXVtLXNjYWxlPTEuMCwgdXNlci1zY2FsYWJsZT1ubyIgLz4KICAgIDxzdHlsZT4jbWFwXzZmYWUyMzRkMzgzZDQzOTFhNzM3NjY4ZDIyNmZiZmYyIHsKICAgICAgICBwb3NpdGlvbjogcmVsYXRpdmU7CiAgICAgICAgd2lkdGg6IDEwMC4wJTsKICAgICAgICBoZWlnaHQ6IDEwMC4wJTsKICAgICAgICBsZWZ0OiAwLjAlOwogICAgICAgIHRvcDogMC4wJTsKICAgICAgICB9CiAgICA8L3N0eWxlPgo8L2hlYWQ+Cjxib2R5PiAgICAKICAgIAogICAgPGRpdiBjbGFzcz0iZm9saXVtLW1hcCIgaWQ9Im1hcF82ZmFlMjM0ZDM4M2Q0MzkxYTczNzY2OGQyMjZmYmZmMiIgPjwvZGl2Pgo8L2JvZHk+CjxzY3JpcHQ+ICAgIAogICAgCiAgICAKICAgICAgICB2YXIgYm91bmRzID0gbnVsbDsKICAgIAoKICAgIHZhciBtYXBfNmZhZTIzNGQzODNkNDM5MWE3Mzc2NjhkMjI2ZmJmZjIgPSBMLm1hcCgKICAgICAgICAnbWFwXzZmYWUyMzRkMzgzZDQzOTFhNzM3NjY4ZDIyNmZiZmYyJywgewogICAgICAgIGNlbnRlcjogWzIwLjU5MzcsIDc4Ljk2MjldLAogICAgICAgIHpvb206IDQuNSwKICAgICAgICBtYXhCb3VuZHM6IGJvdW5kcywKICAgICAgICBsYXllcnM6IFtdLAogICAgICAgIHdvcmxkQ29weUp1bXA6IGZhbHNlLAogICAgICAgIGNyczogTC5DUlMuRVBTRzM4NTcsCiAgICAgICAgem9vbUNvbnRyb2w6IHRydWUsCiAgICAgICAgfSk7CgoKICAgIAogICAgdmFyIHRpbGVfbGF5ZXJfYWEzYmIyZTAzYTY4NDRlNzgwNmU1YWZiNjUwYTczY2YgPSBMLnRpbGVMYXllcigKICAgICAgICAnaHR0cHM6Ly97c30udGlsZS5vcGVuc3RyZWV0bWFwLm9yZy97en0ve3h9L3t5fS5wbmcnLAogICAgICAgIHsKICAgICAgICAiYXR0cmlidXRpb24iOiBudWxsLAogICAgICAgICJkZXRlY3RSZXRpbmEiOiBmYWxzZSwKICAgICAgICAibWF4TmF0aXZlWm9vbSI6IDE4LAogICAgICAgICJtYXhab29tIjogMTgsCiAgICAgICAgIm1pblpvb20iOiAwLAogICAgICAgICJub1dyYXAiOiBmYWxzZSwKICAgICAgICAib3BhY2l0eSI6IDEsCiAgICAgICAgInN1YmRvbWFpbnMiOiAiYWJjIiwKICAgICAgICAidG1zIjogZmFsc2UKfSkuYWRkVG8obWFwXzZmYWUyMzRkMzgzZDQzOTFhNzM3NjY4ZDIyNmZiZmYyKTsKICAgIAogICAgICAgICAgICB2YXIgY2lyY2xlX21hcmtlcl9hZDFhZmE5ZTkyNDI0YmNjYjg4OWVkNWE4ODk3ZmYxMiA9IEwuY2lyY2xlTWFya2VyKAogICAgICAgICAgICAgICAgWzE1LjkxLCA3OS43NF0sCiAgICAgICAgICAgICAgICB7CiAgImJ1YmJsaW5nTW91c2VFdmVudHMiOiB0cnVlLAogICJjb2xvciI6ICJyZWQiLAogICJkYXNoQXJyYXkiOiBudWxsLAogICJkYXNoT2Zmc2V0IjogbnVsbCwKICAiZmlsbCI6IHRydWUsCiAgImZpbGxDb2xvciI6ICJyZWQiLAogICJmaWxsT3BhY2l0eSI6IDAuMiwKICAiZmlsbFJ1bGUiOiAiZXZlbm9kZCIsCiAgImxpbmVDYXAiOiAicm91bmQiLAogICJsaW5lSm9pbiI6ICJyb3VuZCIsCiAgIm9wYWNpdHkiOiAxLjAsCiAgInJhZGl1cyI6IDUsCiAgInN0cm9rZSI6IHRydWUsCiAgIndlaWdodCI6IDMKfQogICAgICAgICAgICAgICAgKQogICAgICAgICAgICAgICAgLmFkZFRvKG1hcF82ZmFlMjM0ZDM4M2Q0MzkxYTczNzY2OGQyMjZmYmZmMik7CiAgICAgICAgICAgIAogICAgCiAgICAgICAgdmFyIG1hcmtlcl9iMmUxZTU4ZWJiMjc0NTRjOGY5ODY3NGFkMmY4MzE4YSA9IEwubWFya2VyKAogICAgICAgICAgICBbMTUuOTEsIDc5Ljc0XSwKICAgICAgICAgICAgewogICAgICAgICAgICAgICAgaWNvbjogbmV3IEwuSWNvbi5EZWZhdWx0KCksCiAgICAgICAgICAgICAgICB9CiAgICAgICAgICAgICkuYWRkVG8obWFwXzZmYWUyMzRkMzgzZDQzOTFhNzM3NjY4ZDIyNmZiZmYyKTsKICAgICAgICAKICAgIAogICAgICAgICAgICB2YXIgcG9wdXBfZGQ3MGE1YzNkNzk5NGI3ZmE0NDAxMDUyMGMwMTE1NDcgPSBMLnBvcHVwKHttYXhXaWR0aDogJzIwMCcKICAgICAgICAgICAgCiAgICAgICAgICAgIH0pOwoKICAgICAgICAgICAgCiAgICAgICAgICAgICAgICB2YXIgaHRtbF8yOWQ0ZTRmYjJlYTE0ZDJlODdiZjVhNWJmYzM1NjYzNSA9ICQoYDxkaXYgaWQ9Imh0bWxfMjlkNGU0ZmIyZWExNGQyZTg3YmY1YTViZmMzNTY2MzUiIHN0eWxlPSJ3aWR0aDogMTAwLjAlOyBoZWlnaHQ6IDEwMC4wJTsiPjxzdHJvbmc+PGI+U3RhdGUgIDogQW5kaHJhIFByYWRlc2g8L3N0cm9uZz4gPGJyPjxzdHJvbmc+PGI+VG90YWwgQ2FzZXMgOiA1NzUwNzk8L3N0cmlvbmc+PGJyPjxzdHJvbmc+PGZvbnQgY29sb3I9IHJlZD5EZWF0aHMgOiA8L2ZvbnQ+NDk3Mjwvc3RyaW9uZz48YnI+PHN0cm9uZz48Zm9udCBjb2xvcj1ncmVlbj5SZWNvdmVyaWVzIDogPC9mb250PjQ3NjkwMzwvc3RyaW9uZz48YnI+PHN0cm9uZz48Yj5BY3RpdmUgQ2FzZXMgOiA5MzIwNDwvc3RyaW9uZz48L2Rpdj5gKVswXTsKICAgICAgICAgICAgICAgIHBvcHVwX2RkNzBhNWMzZDc5OTRiN2ZhNDQwMTA1MjBjMDExNTQ3LnNldENvbnRlbnQoaHRtbF8yOWQ0ZTRmYjJlYTE0ZDJlODdiZjVhNWJmYzM1NjYzNSk7CiAgICAgICAgICAgIAoKICAgICAgICAgICAgbWFya2VyX2IyZTFlNThlYmIyNzQ1NGM4Zjk4Njc0YWQyZjgzMThhLmJpbmRQb3B1cChwb3B1cF9kZDcwYTVjM2Q3OTk0YjdmYTQ0MDEwNTIwYzAxMTU0NykKICAgICAgICAgICAgOwoKICAgICAgICAgICAgCiAgICAgICAgCiAgICAKICAgICAgICAgICAgdmFyIGNpcmNsZV9tYXJrZXJfMTgxMTFhZTliNjc0NGU2MDk0OWM4NWJmZmJhMWZmZTcgPSBMLmNpcmNsZU1hcmtlcigKICAgICAgICAgICAgICAgIFsyOC4yMSwgOTQuNzJdLAogICAgICAgICAgICAgICAgewogICJidWJibGluZ01vdXNlRXZlbnRzIjogdHJ1ZSwKICAiY29sb3IiOiAicmVkIiwKICAiZGFzaEFycmF5IjogbnVsbCwKICAiZGFzaE9mZnNldCI6IG51bGwsCiAgImZpbGwiOiB0cnVlLAogICJmaWxsQ29sb3IiOiAicmVkIiwKICAiZmlsbE9wYWNpdHkiOiAwLjIsCiAgImZpbGxSdWxlIjogImV2ZW5vZGQiLAogICJsaW5lQ2FwIjogInJvdW5kIiwKICAibGluZUpvaW4iOiAicm91bmQiLAogICJvcGFjaXR5IjogMS4wLAogICJyYWRpdXMiOiA1LAogICJzdHJva2UiOiB0cnVlLAogICJ3ZWlnaHQiOiAzCn0KICAgICAgICAgICAgICAgICkKICAgICAgICAgICAgICAgIC5hZGRUbyhtYXBfNmZhZTIzNGQzODNkNDM5MWE3Mzc2NjhkMjI2ZmJmZjIpOwogICAgICAgICAgICAKICAgIAogICAgICAgIHZhciBtYXJrZXJfNmQwZmU0MGZmM2I3NDZhYWIxYzdjZDYzZTY3MTFiOTEgPSBMLm1hcmtlcigKICAgICAgICAgICAgWzI4LjIxLCA5NC43Ml0sCiAgICAgICAgICAgIHsKICAgICAgICAgICAgICAgIGljb246IG5ldyBMLkljb24uRGVmYXVsdCgpLAogICAgICAgICAgICAgICAgfQogICAgICAgICAgICApLmFkZFRvKG1hcF82ZmFlMjM0ZDM4M2Q0MzkxYTczNzY2OGQyMjZmYmZmMik7CiAgICAgICAgCiAgICAKICAgICAgICAgICAgdmFyIHBvcHVwXzk3ODZlNjg1YWYwMTQ2NzhiN2ZlYmJjN2ZhYjY2YjBlID0gTC5wb3B1cCh7bWF4V2lkdGg6ICcyMDAnCiAgICAgICAgICAgIAogICAgICAgICAgICB9KTsKCiAgICAgICAgICAgIAogICAgICAgICAgICAgICAgdmFyIGh0bWxfZDEyYTZmZmE0ZDhlNGU2OGJiOGNlZmNmODlhNjIyYmMgPSAkKGA8ZGl2IGlkPSJodG1sX2QxMmE2ZmZhNGQ4ZTRlNjhiYjhjZWZjZjg5YTYyMmJjIiBzdHlsZT0id2lkdGg6IDEwMC4wJTsgaGVpZ2h0OiAxMDAuMCU7Ij48c3Ryb25nPjxiPlN0YXRlICA6IEFydW5hY2hhbCBQcmFkZXNoPC9zdHJvbmc+IDxicj48c3Ryb25nPjxiPlRvdGFsIENhc2VzIDogNjI5ODwvc3RyaW9uZz48YnI+PHN0cm9uZz48Zm9udCBjb2xvcj0gcmVkPkRlYXRocyA6IDwvZm9udD4xMTwvc3RyaW9uZz48YnI+PHN0cm9uZz48Zm9udCBjb2xvcj1ncmVlbj5SZWNvdmVyaWVzIDogPC9mb250PjQ1MzE8L3N0cmlvbmc+PGJyPjxzdHJvbmc+PGI+QWN0aXZlIENhc2VzIDogMTc1Njwvc3RyaW9uZz48L2Rpdj5gKVswXTsKICAgICAgICAgICAgICAgIHBvcHVwXzk3ODZlNjg1YWYwMTQ2NzhiN2ZlYmJjN2ZhYjY2YjBlLnNldENvbnRlbnQoaHRtbF9kMTJhNmZmYTRkOGU0ZTY4YmI4Y2VmY2Y4OWE2MjJiYyk7CiAgICAgICAgICAgIAoKICAgICAgICAgICAgbWFya2VyXzZkMGZlNDBmZjNiNzQ2YWFiMWM3Y2Q2M2U2NzExYjkxLmJpbmRQb3B1cChwb3B1cF85Nzg2ZTY4NWFmMDE0Njc4YjdmZWJiYzdmYWI2NmIwZSkKICAgICAgICAgICAgOwoKICAgICAgICAgICAgCiAgICAgICAgCiAgICAKICAgICAgICAgICAgdmFyIGNpcmNsZV9tYXJrZXJfNjJlNjhiODIyZGM4NDNhYWEwYWMyODhjMDY1ZTc0YzEgPSBMLmNpcmNsZU1hcmtlcigKICAgICAgICAgICAgICAgIFsyNi4yLCA5Mi45M10sCiAgICAgICAgICAgICAgICB7CiAgImJ1YmJsaW5nTW91c2VFdmVudHMiOiB0cnVlLAogICJjb2xvciI6ICJyZWQiLAogICJkYXNoQXJyYXkiOiBudWxsLAogICJkYXNoT2Zmc2V0IjogbnVsbCwKICAiZmlsbCI6IHRydWUsCiAgImZpbGxDb2xvciI6ICJyZWQiLAogICJmaWxsT3BhY2l0eSI6IDAuMiwKICAiZmlsbFJ1bGUiOiAiZXZlbm9kZCIsCiAgImxpbmVDYXAiOiAicm91bmQiLAogICJsaW5lSm9pbiI6ICJyb3VuZCIsCiAgIm9wYWNpdHkiOiAxLjAsCiAgInJhZGl1cyI6IDUsCiAgInN0cm9rZSI6IHRydWUsCiAgIndlaWdodCI6IDMKfQogICAgICAgICAgICAgICAgKQogICAgICAgICAgICAgICAgLmFkZFRvKG1hcF82ZmFlMjM0ZDM4M2Q0MzkxYTczNzY2OGQyMjZmYmZmMik7CiAgICAgICAgICAgIAogICAgCiAgICAgICAgdmFyIG1hcmtlcl9jNGNjMzJlYjA1MTQ0NWRiYjJhNDUyZDNkODhiYzExNCA9IEwubWFya2VyKAogICAgICAgICAgICBbMjYuMiwgOTIuOTNdLAogICAgICAgICAgICB7CiAgICAgICAgICAgICAgICBpY29uOiBuZXcgTC5JY29uLkRlZmF1bHQoKSwKICAgICAgICAgICAgICAgIH0KICAgICAgICAgICAgKS5hZGRUbyhtYXBfNmZhZTIzNGQzODNkNDM5MWE3Mzc2NjhkMjI2ZmJmZjIpOwogICAgICAgIAogICAgCiAgICAgICAgICAgIHZhciBwb3B1cF9lZDMzMzhhYzZjYmM0Zjc2OWIyMWUzMzQ1YWIyMTAxZiA9IEwucG9wdXAoe21heFdpZHRoOiAnMjAwJwogICAgICAgICAgICAKICAgICAgICAgICAgfSk7CgogICAgICAgICAgICAKICAgICAgICAgICAgICAgIHZhciBodG1sXzNhMzYwNmRiMzAwOTRmYWNiNGIxMjUxYzNlZDgxZmU1ID0gJChgPGRpdiBpZD0iaHRtbF8zYTM2MDZkYjMwMDk0ZmFjYjRiMTI1MWMzZWQ4MWZlNSIgc3R5bGU9IndpZHRoOiAxMDAuMCU7IGhlaWdodDogMTAwLjAlOyI+PHN0cm9uZz48Yj5TdGF0ZSAgOiBBc3NhbTwvc3Ryb25nPiA8YnI+PHN0cm9uZz48Yj5Ub3RhbCBDYXNlcyA6IDE0NCwxNjZbYl08L3N0cmlvbmc+PGJyPjxzdHJvbmc+PGZvbnQgY29sb3I9IHJlZD5EZWF0aHMgOiA8L2ZvbnQ+NDgyPC9zdHJpb25nPjxicj48c3Ryb25nPjxmb250IGNvbG9yPWdyZWVuPlJlY292ZXJpZXMgOiA8L2ZvbnQ+MTE1MDU0PC9zdHJpb25nPjxicj48c3Ryb25nPjxiPkFjdGl2ZSBDYXNlcyA6IDI4NjMwPC9zdHJpb25nPjwvZGl2PmApWzBdOwogICAgICAgICAgICAgICAgcG9wdXBfZWQzMzM4YWM2Y2JjNGY3NjliMjFlMzM0NWFiMjEwMWYuc2V0Q29udGVudChodG1sXzNhMzYwNmRiMzAwOTRmYWNiNGIxMjUxYzNlZDgxZmU1KTsKICAgICAgICAgICAgCgogICAgICAgICAgICBtYXJrZXJfYzRjYzMyZWIwNTE0NDVkYmIyYTQ1MmQzZDg4YmMxMTQuYmluZFBvcHVwKHBvcHVwX2VkMzMzOGFjNmNiYzRmNzY5YjIxZTMzNDVhYjIxMDFmKQogICAgICAgICAgICA7CgogICAgICAgICAgICAKICAgICAgICAKICAgIAogICAgICAgICAgICB2YXIgY2lyY2xlX21hcmtlcl8zY2U2ZDI0YTMzYmE0NWVkODUwMjNiMzY4NTI5ZmY5YiA9IEwuY2lyY2xlTWFya2VyKAogICAgICAgICAgICAgICAgWzI1LjA5LCA4NS4zMV0sCiAgICAgICAgICAgICAgICB7CiAgImJ1YmJsaW5nTW91c2VFdmVudHMiOiB0cnVlLAogICJjb2xvciI6ICJyZWQiLAogICJkYXNoQXJyYXkiOiBudWxsLAogICJkYXNoT2Zmc2V0IjogbnVsbCwKICAiZmlsbCI6IHRydWUsCiAgImZpbGxDb2xvciI6ICJyZWQiLAogICJmaWxsT3BhY2l0eSI6IDAuMiwKICAiZmlsbFJ1bGUiOiAiZXZlbm9kZCIsCiAgImxpbmVDYXAiOiAicm91bmQiLAogICJsaW5lSm9pbiI6ICJyb3VuZCIsCiAgIm9wYWNpdHkiOiAxLjAsCiAgInJhZGl1cyI6IDUsCiAgInN0cm9rZSI6IHRydWUsCiAgIndlaWdodCI6IDMKfQogICAgICAgICAgICAgICAgKQogICAgICAgICAgICAgICAgLmFkZFRvKG1hcF82ZmFlMjM0ZDM4M2Q0MzkxYTczNzY2OGQyMjZmYmZmMik7CiAgICAgICAgICAgIAogICAgCiAgICAgICAgdmFyIG1hcmtlcl81ZjZhYjUwYzExMGU0MGFhOTZjYTk0NTlhZmM4MDc4ZCA9IEwubWFya2VyKAogICAgICAgICAgICBbMjUuMDksIDg1LjMxXSwKICAgICAgICAgICAgewogICAgICAgICAgICAgICAgaWNvbjogbmV3IEwuSWNvbi5EZWZhdWx0KCksCiAgICAgICAgICAgICAgICB9CiAgICAgICAgICAgICkuYWRkVG8obWFwXzZmYWUyMzRkMzgzZDQzOTFhNzM3NjY4ZDIyNmZiZmYyKTsKICAgICAgICAKICAgIAogICAgICAgICAgICB2YXIgcG9wdXBfN2VjMjJmN2JkZDQ3NDhmM2EzY2UxMTk3YzhkOTZkZTIgPSBMLnBvcHVwKHttYXhXaWR0aDogJzIwMCcKICAgICAgICAgICAgCiAgICAgICAgICAgIH0pOwoKICAgICAgICAgICAgCiAgICAgICAgICAgICAgICB2YXIgaHRtbF8xNDc2ZGZkMmVkNjk0ZWM0ODdkODI1NjdhM2JlZDU4ZiA9ICQoYDxkaXYgaWQ9Imh0bWxfMTQ3NmRmZDJlZDY5NGVjNDg3ZDgyNTY3YTNiZWQ1OGYiIHN0eWxlPSJ3aWR0aDogMTAwLjAlOyBoZWlnaHQ6IDEwMC4wJTsiPjxzdHJvbmc+PGI+U3RhdGUgIDogQmloYXI8L3N0cm9uZz4gPGJyPjxzdHJvbmc+PGI+VG90YWwgQ2FzZXMgOiAxNjAzNjY8L3N0cmlvbmc+PGJyPjxzdHJvbmc+PGZvbnQgY29sb3I9IHJlZD5EZWF0aHMgOiA8L2ZvbnQ+ODMxPC9zdHJpb25nPjxicj48c3Ryb25nPjxmb250IGNvbG9yPWdyZWVuPlJlY292ZXJpZXMgOiA8L2ZvbnQ+MTQ1NTYwPC9zdHJpb25nPjxicj48c3Ryb25nPjxiPkFjdGl2ZSBDYXNlcyA6IDEzOTc1PC9zdHJpb25nPjwvZGl2PmApWzBdOwogICAgICAgICAgICAgICAgcG9wdXBfN2VjMjJmN2JkZDQ3NDhmM2EzY2UxMTk3YzhkOTZkZTIuc2V0Q29udGVudChodG1sXzE0NzZkZmQyZWQ2OTRlYzQ4N2Q4MjU2N2EzYmVkNThmKTsKICAgICAgICAgICAgCgogICAgICAgICAgICBtYXJrZXJfNWY2YWI1MGMxMTBlNDBhYTk2Y2E5NDU5YWZjODA3OGQuYmluZFBvcHVwKHBvcHVwXzdlYzIyZjdiZGQ0NzQ4ZjNhM2NlMTE5N2M4ZDk2ZGUyKQogICAgICAgICAgICA7CgogICAgICAgICAgICAKICAgICAgICAKICAgIAogICAgICAgICAgICB2YXIgY2lyY2xlX21hcmtlcl8xYjU0ZDhhMzE1NmQ0Mzg2OGI5OWE5Yzc4MTA5YjcyMSA9IEwuY2lyY2xlTWFya2VyKAogICAgICAgICAgICAgICAgWzIxLjI3LCA4MS44Nl0sCiAgICAgICAgICAgICAgICB7CiAgImJ1YmJsaW5nTW91c2VFdmVudHMiOiB0cnVlLAogICJjb2xvciI6ICJyZWQiLAogICJkYXNoQXJyYXkiOiBudWxsLAogICJkYXNoT2Zmc2V0IjogbnVsbCwKICAiZmlsbCI6IHRydWUsCiAgImZpbGxDb2xvciI6ICJyZWQiLAogICJmaWxsT3BhY2l0eSI6IDAuMiwKICAiZmlsbFJ1bGUiOiAiZXZlbm9kZCIsCiAgImxpbmVDYXAiOiAicm91bmQiLAogICJsaW5lSm9pbiI6ICJyb3VuZCIsCiAgIm9wYWNpdHkiOiAxLjAsCiAgInJhZGl1cyI6IDUsCiAgInN0cm9rZSI6IHRydWUsCiAgIndlaWdodCI6IDMKfQogICAgICAgICAgICAgICAgKQogICAgICAgICAgICAgICAgLmFkZFRvKG1hcF82ZmFlMjM0ZDM4M2Q0MzkxYTczNzY2OGQyMjZmYmZmMik7CiAgICAgICAgICAgIAogICAgCiAgICAgICAgdmFyIG1hcmtlcl8xNjdjYmE2OWQwNDc0OGIxYWU1ZjE1ODNjZjE2OGM4MiA9IEwubWFya2VyKAogICAgICAgICAgICBbMjEuMjcsIDgxLjg2XSwKICAgICAgICAgICAgewogICAgICAgICAgICAgICAgaWNvbjogbmV3IEwuSWNvbi5EZWZhdWx0KCksCiAgICAgICAgICAgICAgICB9CiAgICAgICAgICAgICkuYWRkVG8obWFwXzZmYWUyMzRkMzgzZDQzOTFhNzM3NjY4ZDIyNmZiZmYyKTsKICAgICAgICAKICAgIAogICAgICAgICAgICB2YXIgcG9wdXBfYWZjOWRiMWM5NTAyNDkwNGI5MTliNWVhN2ViNWNjNmEgPSBMLnBvcHVwKHttYXhXaWR0aDogJzIwMCcKICAgICAgICAgICAgCiAgICAgICAgICAgIH0pOwoKICAgICAgICAgICAgCiAgICAgICAgICAgICAgICB2YXIgaHRtbF80ODI0NmY3MmM3OGE0MTgzYWY3ZmU4MWE0ZTkyODEzNCA9ICQoYDxkaXYgaWQ9Imh0bWxfNDgyNDZmNzJjNzhhNDE4M2FmN2ZlODFhNGU5MjgxMzQiIHN0eWxlPSJ3aWR0aDogMTAwLjAlOyBoZWlnaHQ6IDEwMC4wJTsiPjxzdHJvbmc+PGI+U3RhdGUgIDogQ2hoYXR0aXNnYXJoPC9zdHJvbmc+IDxicj48c3Ryb25nPjxiPlRvdGFsIENhc2VzIDogNjczMjc8L3N0cmlvbmc+PGJyPjxzdHJvbmc+PGZvbnQgY29sb3I9IHJlZD5EZWF0aHMgOiA8L2ZvbnQ+NTczPC9zdHJpb25nPjxicj48c3Ryb25nPjxmb250IGNvbG9yPWdyZWVuPlJlY292ZXJpZXMgOiA8L2ZvbnQ+MzMxMDk8L3N0cmlvbmc+PGJyPjxzdHJvbmc+PGI+QWN0aXZlIENhc2VzIDogMzM2NDU8L3N0cmlvbmc+PC9kaXY+YClbMF07CiAgICAgICAgICAgICAgICBwb3B1cF9hZmM5ZGIxYzk1MDI0OTA0YjkxOWI1ZWE3ZWI1Y2M2YS5zZXRDb250ZW50KGh0bWxfNDgyNDZmNzJjNzhhNDE4M2FmN2ZlODFhNGU5MjgxMzQpOwogICAgICAgICAgICAKCiAgICAgICAgICAgIG1hcmtlcl8xNjdjYmE2OWQwNDc0OGIxYWU1ZjE1ODNjZjE2OGM4Mi5iaW5kUG9wdXAocG9wdXBfYWZjOWRiMWM5NTAyNDkwNGI5MTliNWVhN2ViNWNjNmEpCiAgICAgICAgICAgIDsKCiAgICAgICAgICAgIAogICAgICAgIAogICAgCiAgICAgICAgICAgIHZhciBjaXJjbGVfbWFya2VyXzJmMGE3NzA4M2JlYzQ2M2JhZTZlYjBmMGY1NmMxN2ExID0gTC5jaXJjbGVNYXJrZXIoCiAgICAgICAgICAgICAgICBbMTUuMjksIDc0LjEyXSwKICAgICAgICAgICAgICAgIHsKICAiYnViYmxpbmdNb3VzZUV2ZW50cyI6IHRydWUsCiAgImNvbG9yIjogInJlZCIsCiAgImRhc2hBcnJheSI6IG51bGwsCiAgImRhc2hPZmZzZXQiOiBudWxsLAogICJmaWxsIjogdHJ1ZSwKICAiZmlsbENvbG9yIjogInJlZCIsCiAgImZpbGxPcGFjaXR5IjogMC4yLAogICJmaWxsUnVsZSI6ICJldmVub2RkIiwKICAibGluZUNhcCI6ICJyb3VuZCIsCiAgImxpbmVKb2luIjogInJvdW5kIiwKICAib3BhY2l0eSI6IDEuMCwKICAicmFkaXVzIjogNSwKICAic3Ryb2tlIjogdHJ1ZSwKICAid2VpZ2h0IjogMwp9CiAgICAgICAgICAgICAgICApCiAgICAgICAgICAgICAgICAuYWRkVG8obWFwXzZmYWUyMzRkMzgzZDQzOTFhNzM3NjY4ZDIyNmZiZmYyKTsKICAgICAgICAgICAgCiAgICAKICAgICAgICB2YXIgbWFya2VyX2VhODk4N2M1YTJkNTQ0MmJhZTlkYTY5MDM1Y2UwY2QyID0gTC5tYXJrZXIoCiAgICAgICAgICAgIFsxNS4yOSwgNzQuMTJdLAogICAgICAgICAgICB7CiAgICAgICAgICAgICAgICBpY29uOiBuZXcgTC5JY29uLkRlZmF1bHQoKSwKICAgICAgICAgICAgICAgIH0KICAgICAgICAgICAgKS5hZGRUbyhtYXBfNmZhZTIzNGQzODNkNDM5MWE3Mzc2NjhkMjI2ZmJmZjIpOwogICAgICAgIAogICAgCiAgICAgICAgICAgIHZhciBwb3B1cF85NGExZDJlYTg3ZjI0YjUzODIwYWJiYzA2YWExM2YxNCA9IEwucG9wdXAoe21heFdpZHRoOiAnMjAwJwogICAgICAgICAgICAKICAgICAgICAgICAgfSk7CgogICAgICAgICAgICAKICAgICAgICAgICAgICAgIHZhciBodG1sXzI0NDIwZDI5MTgxYjRiMGFiZTNmMDIyNmYwMWEwNjZlID0gJChgPGRpdiBpZD0iaHRtbF8yNDQyMGQyOTE4MWI0YjBhYmUzZjAyMjZmMDFhMDY2ZSIgc3R5bGU9IndpZHRoOiAxMDAuMCU7IGhlaWdodDogMTAwLjAlOyI+PHN0cm9uZz48Yj5TdGF0ZSAgOiBHb2E8L3N0cm9uZz4gPGJyPjxzdHJvbmc+PGI+VG90YWwgQ2FzZXMgOiAyNDg5ODwvc3RyaW9uZz48YnI+PHN0cm9uZz48Zm9udCBjb2xvcj0gcmVkPkRlYXRocyA6IDwvZm9udD4zMDQ8L3N0cmlvbmc+PGJyPjxzdHJvbmc+PGZvbnQgY29sb3I9Z3JlZW4+UmVjb3ZlcmllcyA6IDwvZm9udD4xOTY0ODwvc3RyaW9uZz48YnI+PHN0cm9uZz48Yj5BY3RpdmUgQ2FzZXMgOiA0OTQ2PC9zdHJpb25nPjwvZGl2PmApWzBdOwogICAgICAgICAgICAgICAgcG9wdXBfOTRhMWQyZWE4N2YyNGI1MzgyMGFiYmMwNmFhMTNmMTQuc2V0Q29udGVudChodG1sXzI0NDIwZDI5MTgxYjRiMGFiZTNmMDIyNmYwMWEwNjZlKTsKICAgICAgICAgICAgCgogICAgICAgICAgICBtYXJrZXJfZWE4OTg3YzVhMmQ1NDQyYmFlOWRhNjkwMzVjZTBjZDIuYmluZFBvcHVwKHBvcHVwXzk0YTFkMmVhODdmMjRiNTM4MjBhYmJjMDZhYTEzZjE0KQogICAgICAgICAgICA7CgogICAgICAgICAgICAKICAgICAgICAKICAgIAogICAgICAgICAgICB2YXIgY2lyY2xlX21hcmtlcl85OGFlYTE3YzY5OGY0ZWQ5YmY4YzkxZTRiZTI1MGE2ZSA9IEwuY2lyY2xlTWFya2VyKAogICAgICAgICAgICAgICAgWzIyLjI1LCA3MS4xOV0sCiAgICAgICAgICAgICAgICB7CiAgImJ1YmJsaW5nTW91c2VFdmVudHMiOiB0cnVlLAogICJjb2xvciI6ICJyZWQiLAogICJkYXNoQXJyYXkiOiBudWxsLAogICJkYXNoT2Zmc2V0IjogbnVsbCwKICAiZmlsbCI6IHRydWUsCiAgImZpbGxDb2xvciI6ICJyZWQiLAogICJmaWxsT3BhY2l0eSI6IDAuMiwKICAiZmlsbFJ1bGUiOiAiZXZlbm9kZCIsCiAgImxpbmVDYXAiOiAicm91bmQiLAogICJsaW5lSm9pbiI6ICJyb3VuZCIsCiAgIm9wYWNpdHkiOiAxLjAsCiAgInJhZGl1cyI6IDUsCiAgInN0cm9rZSI6IHRydWUsCiAgIndlaWdodCI6IDMKfQogICAgICAgICAgICAgICAgKQogICAgICAgICAgICAgICAgLmFkZFRvKG1hcF82ZmFlMjM0ZDM4M2Q0MzkxYTczNzY2OGQyMjZmYmZmMik7CiAgICAgICAgICAgIAogICAgCiAgICAgICAgdmFyIG1hcmtlcl9jNTNhZDIyZWUyMzI0MjA3YTNjNzJiOTdiOTJiZWZkNyA9IEwubWFya2VyKAogICAgICAgICAgICBbMjIuMjUsIDcxLjE5XSwKICAgICAgICAgICAgewogICAgICAgICAgICAgICAgaWNvbjogbmV3IEwuSWNvbi5EZWZhdWx0KCksCiAgICAgICAgICAgICAgICB9CiAgICAgICAgICAgICkuYWRkVG8obWFwXzZmYWUyMzRkMzgzZDQzOTFhNzM3NjY4ZDIyNmZiZmYyKTsKICAgICAgICAKICAgIAogICAgICAgICAgICB2YXIgcG9wdXBfNmZjYjcyMDgzYmY0NDAyM2IzNWIzNjUzNTQwNjgxMTUgPSBMLnBvcHVwKHttYXhXaWR0aDogJzIwMCcKICAgICAgICAgICAgCiAgICAgICAgICAgIH0pOwoKICAgICAgICAgICAgCiAgICAgICAgICAgICAgICB2YXIgaHRtbF82N2ZjMTQxNGIwYmU0YWJjYjc3OGU2NjA5ZDEwZmJmZSA9ICQoYDxkaXYgaWQ9Imh0bWxfNjdmYzE0MTRiMGJlNGFiY2I3NzhlNjYwOWQxMGZiZmUiIHN0eWxlPSJ3aWR0aDogMTAwLjAlOyBoZWlnaHQ6IDEwMC4wJTsiPjxzdHJvbmc+PGI+U3RhdGUgIDogR3VqYXJhdDwvc3Ryb25nPiA8YnI+PHN0cm9uZz48Yj5Ub3RhbCBDYXNlcyA6IDExNDgzNDwvc3RyaW9uZz48YnI+PHN0cm9uZz48Zm9udCBjb2xvcj0gcmVkPkRlYXRocyA6IDwvZm9udD4zMjI3PC9zdHJpb25nPjxicj48c3Ryb25nPjxmb250IGNvbG9yPWdyZWVuPlJlY292ZXJpZXMgOiA8L2ZvbnQ+OTUxMzg8L3N0cmlvbmc+PGJyPjxzdHJvbmc+PGI+QWN0aXZlIENhc2VzIDogMTY0Njk8L3N0cmlvbmc+PC9kaXY+YClbMF07CiAgICAgICAgICAgICAgICBwb3B1cF82ZmNiNzIwODNiZjQ0MDIzYjM1YjM2NTM1NDA2ODExNS5zZXRDb250ZW50KGh0bWxfNjdmYzE0MTRiMGJlNGFiY2I3NzhlNjYwOWQxMGZiZmUpOwogICAgICAgICAgICAKCiAgICAgICAgICAgIG1hcmtlcl9jNTNhZDIyZWUyMzI0MjA3YTNjNzJiOTdiOTJiZWZkNy5iaW5kUG9wdXAocG9wdXBfNmZjYjcyMDgzYmY0NDAyM2IzNWIzNjUzNTQwNjgxMTUpCiAgICAgICAgICAgIDsKCiAgICAgICAgICAgIAogICAgICAgIAogICAgCiAgICAgICAgICAgIHZhciBjaXJjbGVfbWFya2VyXzY1YjBhYjk5Y2Y4MTRhMzZhYTE0OTU2MzcwN2NkNjkyID0gTC5jaXJjbGVNYXJrZXIoCiAgICAgICAgICAgICAgICBbMjkuMDUsIDc2LjA4XSwKICAgICAgICAgICAgICAgIHsKICAiYnViYmxpbmdNb3VzZUV2ZW50cyI6IHRydWUsCiAgImNvbG9yIjogInJlZCIsCiAgImRhc2hBcnJheSI6IG51bGwsCiAgImRhc2hPZmZzZXQiOiBudWxsLAogICJmaWxsIjogdHJ1ZSwKICAiZmlsbENvbG9yIjogInJlZCIsCiAgImZpbGxPcGFjaXR5IjogMC4yLAogICJmaWxsUnVsZSI6ICJldmVub2RkIiwKICAibGluZUNhcCI6ICJyb3VuZCIsCiAgImxpbmVKb2luIjogInJvdW5kIiwKICAib3BhY2l0eSI6IDEuMCwKICAicmFkaXVzIjogNSwKICAic3Ryb2tlIjogdHJ1ZSwKICAid2VpZ2h0IjogMwp9CiAgICAgICAgICAgICAgICApCiAgICAgICAgICAgICAgICAuYWRkVG8obWFwXzZmYWUyMzRkMzgzZDQzOTFhNzM3NjY4ZDIyNmZiZmYyKTsKICAgICAgICAgICAgCiAgICAKICAgICAgICB2YXIgbWFya2VyXzg3ZjM0OWFhMGZlNjRhOTU4NjU5ZTU0ODE4MzlmN2YxID0gTC5tYXJrZXIoCiAgICAgICAgICAgIFsyOS4wNSwgNzYuMDhdLAogICAgICAgICAgICB7CiAgICAgICAgICAgICAgICBpY29uOiBuZXcgTC5JY29uLkRlZmF1bHQoKSwKICAgICAgICAgICAgICAgIH0KICAgICAgICAgICAgKS5hZGRUbyhtYXBfNmZhZTIzNGQzODNkNDM5MWE3Mzc2NjhkMjI2ZmJmZjIpOwogICAgICAgIAogICAgCiAgICAgICAgICAgIHZhciBwb3B1cF82ZTExZTY5ZDI2NTk0YzAwYmIwMTZjYjFkNmE0ZGU2YyA9IEwucG9wdXAoe21heFdpZHRoOiAnMjAwJwogICAgICAgICAgICAKICAgICAgICAgICAgfSk7CgogICAgICAgICAgICAKICAgICAgICAgICAgICAgIHZhciBodG1sXzZiMTVlMzgzMWQ1ZTQ2MjU5MjRmZjQyMDQ4ZDZiNmMwID0gJChgPGRpdiBpZD0iaHRtbF82YjE1ZTM4MzFkNWU0NjI1OTI0ZmY0MjA0OGQ2YjZjMCIgc3R5bGU9IndpZHRoOiAxMDAuMCU7IGhlaWdodDogMTAwLjAlOyI+PHN0cm9uZz48Yj5TdGF0ZSAgOiBIYXJ5YW5hPC9zdHJvbmc+IDxicj48c3Ryb25nPjxiPlRvdGFsIENhc2VzIDogOTYxMjk8L3N0cmlvbmc+PGJyPjxzdHJvbmc+PGZvbnQgY29sb3I9IHJlZD5EZWF0aHMgOiA8L2ZvbnQ+MTAwMDwvc3RyaW9uZz48YnI+PHN0cm9uZz48Zm9udCBjb2xvcj1ncmVlbj5SZWNvdmVyaWVzIDogPC9mb250Pjc0NzEyPC9zdHJpb25nPjxicj48c3Ryb25nPjxiPkFjdGl2ZSBDYXNlcyA6IDIwNDE3PC9zdHJpb25nPjwvZGl2PmApWzBdOwogICAgICAgICAgICAgICAgcG9wdXBfNmUxMWU2OWQyNjU5NGMwMGJiMDE2Y2IxZDZhNGRlNmMuc2V0Q29udGVudChodG1sXzZiMTVlMzgzMWQ1ZTQ2MjU5MjRmZjQyMDQ4ZDZiNmMwKTsKICAgICAgICAgICAgCgogICAgICAgICAgICBtYXJrZXJfODdmMzQ5YWEwZmU2NGE5NTg2NTllNTQ4MTgzOWY3ZjEuYmluZFBvcHVwKHBvcHVwXzZlMTFlNjlkMjY1OTRjMDBiYjAxNmNiMWQ2YTRkZTZjKQogICAgICAgICAgICA7CgogICAgICAgICAgICAKICAgICAgICAKICAgIAogICAgICAgICAgICB2YXIgY2lyY2xlX21hcmtlcl9lODY2ZmJiYWQ2MmM0N2U4OWY0ODEyNTc0ODg4MmRjOSA9IEwuY2lyY2xlTWFya2VyKAogICAgICAgICAgICAgICAgWzMxLjEsIDc3LjE3XSwKICAgICAgICAgICAgICAgIHsKICAiYnViYmxpbmdNb3VzZUV2ZW50cyI6IHRydWUsCiAgImNvbG9yIjogInJlZCIsCiAgImRhc2hBcnJheSI6IG51bGwsCiAgImRhc2hPZmZzZXQiOiBudWxsLAogICJmaWxsIjogdHJ1ZSwKICAiZmlsbENvbG9yIjogInJlZCIsCiAgImZpbGxPcGFjaXR5IjogMC4yLAogICJmaWxsUnVsZSI6ICJldmVub2RkIiwKICAibGluZUNhcCI6ICJyb3VuZCIsCiAgImxpbmVKb2luIjogInJvdW5kIiwKICAib3BhY2l0eSI6IDEuMCwKICAicmFkaXVzIjogNSwKICAic3Ryb2tlIjogdHJ1ZSwKICAid2VpZ2h0IjogMwp9CiAgICAgICAgICAgICAgICApCiAgICAgICAgICAgICAgICAuYWRkVG8obWFwXzZmYWUyMzRkMzgzZDQzOTFhNzM3NjY4ZDIyNmZiZmYyKTsKICAgICAgICAgICAgCiAgICAKICAgICAgICB2YXIgbWFya2VyX2Q2NWViZThhYWZmMTQ1ZTBiNWY5OWQ4MTU2NjhiNzc4ID0gTC5tYXJrZXIoCiAgICAgICAgICAgIFszMS4xLCA3Ny4xN10sCiAgICAgICAgICAgIHsKICAgICAgICAgICAgICAgIGljb246IG5ldyBMLkljb24uRGVmYXVsdCgpLAogICAgICAgICAgICAgICAgfQogICAgICAgICAgICApLmFkZFRvKG1hcF82ZmFlMjM0ZDM4M2Q0MzkxYTczNzY2OGQyMjZmYmZmMik7CiAgICAgICAgCiAgICAKICAgICAgICAgICAgdmFyIHBvcHVwXzE5MzZmYTk2MzJjNzQxOTdhZTg0ODc1Y2EyYWIxMzhhID0gTC5wb3B1cCh7bWF4V2lkdGg6ICcyMDAnCiAgICAgICAgICAgIAogICAgICAgICAgICB9KTsKCiAgICAgICAgICAgIAogICAgICAgICAgICAgICAgdmFyIGh0bWxfNWFiZGU0MzZiNjE3NGI4OWE0MDI4NDgwNDkyZDY4MDQgPSAkKGA8ZGl2IGlkPSJodG1sXzVhYmRlNDM2YjYxNzRiODlhNDAyODQ4MDQ5MmQ2ODA0IiBzdHlsZT0id2lkdGg6IDEwMC4wJTsgaGVpZ2h0OiAxMDAuMCU7Ij48c3Ryb25nPjxiPlN0YXRlICA6IEhpbWFjaGFsIFByYWRlc2g8L3N0cm9uZz4gPGJyPjxzdHJvbmc+PGI+VG90YWwgQ2FzZXMgOiA5OTIzPC9zdHJpb25nPjxicj48c3Ryb25nPjxmb250IGNvbG9yPSByZWQ+RGVhdGhzIDogPC9mb250PjgyPC9zdHJpb25nPjxicj48c3Ryb25nPjxmb250IGNvbG9yPWdyZWVuPlJlY292ZXJpZXMgOiA8L2ZvbnQ+NjE4Mjwvc3RyaW9uZz48YnI+PHN0cm9uZz48Yj5BY3RpdmUgQ2FzZXMgOiAzNjU5PC9zdHJpb25nPjwvZGl2PmApWzBdOwogICAgICAgICAgICAgICAgcG9wdXBfMTkzNmZhOTYzMmM3NDE5N2FlODQ4NzVjYTJhYjEzOGEuc2V0Q29udGVudChodG1sXzVhYmRlNDM2YjYxNzRiODlhNDAyODQ4MDQ5MmQ2ODA0KTsKICAgICAgICAgICAgCgogICAgICAgICAgICBtYXJrZXJfZDY1ZWJlOGFhZmYxNDVlMGI1Zjk5ZDgxNTY2OGI3NzguYmluZFBvcHVwKHBvcHVwXzE5MzZmYTk2MzJjNzQxOTdhZTg0ODc1Y2EyYWIxMzhhKQogICAgICAgICAgICA7CgogICAgICAgICAgICAKICAgICAgICAKICAgIAogICAgICAgICAgICB2YXIgY2lyY2xlX21hcmtlcl9jYTdhM2U5MTQ0NzA0MzRhOWY0MTQ0ZWVlNDk0ZGEwOCA9IEwuY2lyY2xlTWFya2VyKAogICAgICAgICAgICAgICAgWzIzLjYxLCA4NS4yN10sCiAgICAgICAgICAgICAgICB7CiAgImJ1YmJsaW5nTW91c2VFdmVudHMiOiB0cnVlLAogICJjb2xvciI6ICJyZWQiLAogICJkYXNoQXJyYXkiOiBudWxsLAogICJkYXNoT2Zmc2V0IjogbnVsbCwKICAiZmlsbCI6IHRydWUsCiAgImZpbGxDb2xvciI6ICJyZWQiLAogICJmaWxsT3BhY2l0eSI6IDAuMiwKICAiZmlsbFJ1bGUiOiAiZXZlbm9kZCIsCiAgImxpbmVDYXAiOiAicm91bmQiLAogICJsaW5lSm9pbiI6ICJyb3VuZCIsCiAgIm9wYWNpdHkiOiAxLjAsCiAgInJhZGl1cyI6IDUsCiAgInN0cm9rZSI6IHRydWUsCiAgIndlaWdodCI6IDMKfQogICAgICAgICAgICAgICAgKQogICAgICAgICAgICAgICAgLmFkZFRvKG1hcF82ZmFlMjM0ZDM4M2Q0MzkxYTczNzY2OGQyMjZmYmZmMik7CiAgICAgICAgICAgIAogICAgCiAgICAgICAgdmFyIG1hcmtlcl85YTU2ZmE1YWFjZjc0OTQ2OGE5NDgxNmI1ZmRkZGJlMiA9IEwubWFya2VyKAogICAgICAgICAgICBbMjMuNjEsIDg1LjI3XSwKICAgICAgICAgICAgewogICAgICAgICAgICAgICAgaWNvbjogbmV3IEwuSWNvbi5EZWZhdWx0KCksCiAgICAgICAgICAgICAgICB9CiAgICAgICAgICAgICkuYWRkVG8obWFwXzZmYWUyMzRkMzgzZDQzOTFhNzM3NjY4ZDIyNmZiZmYyKTsKICAgICAgICAKICAgIAogICAgICAgICAgICB2YXIgcG9wdXBfMGQ5NDFiNjc1NTY4NDNmN2IzYWM1N2VmMDdmYjg3MzYgPSBMLnBvcHVwKHttYXhXaWR0aDogJzIwMCcKICAgICAgICAgICAgCiAgICAgICAgICAgIH0pOwoKICAgICAgICAgICAgCiAgICAgICAgICAgICAgICB2YXIgaHRtbF8zZTM4Mjc3OWZlODM0MTA3YTFlNGUyNzE3YTZkMTgxZSA9ICQoYDxkaXYgaWQ9Imh0bWxfM2UzODI3NzlmZTgzNDEwN2ExZTRlMjcxN2E2ZDE4MWUiIHN0eWxlPSJ3aWR0aDogMTAwLjAlOyBoZWlnaHQ6IDEwMC4wJTsiPjxzdHJvbmc+PGI+U3RhdGUgIDogSmhhcmtoYW5kPC9zdHJvbmc+IDxicj48c3Ryb25nPjxiPlRvdGFsIENhc2VzIDogNjI3Mzc8L3N0cmlvbmc+PGJyPjxzdHJvbmc+PGZvbnQgY29sb3I9IHJlZD5EZWF0aHMgOiA8L2ZvbnQ+NTYxPC9zdHJpb25nPjxicj48c3Ryb25nPjxmb250IGNvbG9yPWdyZWVuPlJlY292ZXJpZXMgOiA8L2ZvbnQ+NDgxMTI8L3N0cmlvbmc+PGJyPjxzdHJvbmc+PGI+QWN0aXZlIENhc2VzIDogMTQwNjQ8L3N0cmlvbmc+PC9kaXY+YClbMF07CiAgICAgICAgICAgICAgICBwb3B1cF8wZDk0MWI2NzU1Njg0M2Y3YjNhYzU3ZWYwN2ZiODczNi5zZXRDb250ZW50KGh0bWxfM2UzODI3NzlmZTgzNDEwN2ExZTRlMjcxN2E2ZDE4MWUpOwogICAgICAgICAgICAKCiAgICAgICAgICAgIG1hcmtlcl85YTU2ZmE1YWFjZjc0OTQ2OGE5NDgxNmI1ZmRkZGJlMi5iaW5kUG9wdXAocG9wdXBfMGQ5NDFiNjc1NTY4NDNmN2IzYWM1N2VmMDdmYjg3MzYpCiAgICAgICAgICAgIDsKCiAgICAgICAgICAgIAogICAgICAgIAogICAgCiAgICAgICAgICAgIHZhciBjaXJjbGVfbWFya2VyX2JmZDhhNmVkZmE5ZDQyZGRhOGZkMmEyNDUyNWZjZWRhID0gTC5jaXJjbGVNYXJrZXIoCiAgICAgICAgICAgICAgICBbMTUuMzEsIDc1LjcxXSwKICAgICAgICAgICAgICAgIHsKICAiYnViYmxpbmdNb3VzZUV2ZW50cyI6IHRydWUsCiAgImNvbG9yIjogInJlZCIsCiAgImRhc2hBcnJheSI6IG51bGwsCiAgImRhc2hPZmZzZXQiOiBudWxsLAogICJmaWxsIjogdHJ1ZSwKICAiZmlsbENvbG9yIjogInJlZCIsCiAgImZpbGxPcGFjaXR5IjogMC4yLAogICJmaWxsUnVsZSI6ICJldmVub2RkIiwKICAibGluZUNhcCI6ICJyb3VuZCIsCiAgImxpbmVKb2luIjogInJvdW5kIiwKICAib3BhY2l0eSI6IDEuMCwKICAicmFkaXVzIjogNSwKICAic3Ryb2tlIjogdHJ1ZSwKICAid2VpZ2h0IjogMwp9CiAgICAgICAgICAgICAgICApCiAgICAgICAgICAgICAgICAuYWRkVG8obWFwXzZmYWUyMzRkMzgzZDQzOTFhNzM3NjY4ZDIyNmZiZmYyKTsKICAgICAgICAgICAgCiAgICAKICAgICAgICB2YXIgbWFya2VyXzFhOTczZDViOTc3NzRmNjBhMmY4MWM2NzkwNGNmYWFjID0gTC5tYXJrZXIoCiAgICAgICAgICAgIFsxNS4zMSwgNzUuNzFdLAogICAgICAgICAgICB7CiAgICAgICAgICAgICAgICBpY29uOiBuZXcgTC5JY29uLkRlZmF1bHQoKSwKICAgICAgICAgICAgICAgIH0KICAgICAgICAgICAgKS5hZGRUbyhtYXBfNmZhZTIzNGQzODNkNDM5MWE3Mzc2NjhkMjI2ZmJmZjIpOwogICAgICAgIAogICAgCiAgICAgICAgICAgIHZhciBwb3B1cF8yMDU3ZDk0NzlkMWM0ZDBiOTkzNDg0NTQ3YTc3ZDA3MyA9IEwucG9wdXAoe21heFdpZHRoOiAnMjAwJwogICAgICAgICAgICAKICAgICAgICAgICAgfSk7CgogICAgICAgICAgICAKICAgICAgICAgICAgICAgIHZhciBodG1sXzZkZWFjOTI3ZjQ4MzRhYzViZmIxYmMzMzRmZjNmNzllID0gJChgPGRpdiBpZD0iaHRtbF82ZGVhYzkyN2Y0ODM0YWM1YmZiMWJjMzM0ZmYzZjc5ZSIgc3R5bGU9IndpZHRoOiAxMDAuMCU7IGhlaWdodDogMTAwLjAlOyI+PHN0cm9uZz48Yj5TdGF0ZSAgOiBLYXJuYXRha2E8L3N0cm9uZz4gPGJyPjxzdHJvbmc+PGI+VG90YWwgQ2FzZXMgOiA0Njc2ODk8L3N0cmlvbmc+PGJyPjxzdHJvbmc+PGZvbnQgY29sb3I9IHJlZD5EZWF0aHMgOiA8L2ZvbnQ+NzM4NDwvc3RyaW9uZz48YnI+PHN0cm9uZz48Zm9udCBjb2xvcj1ncmVlbj5SZWNvdmVyaWVzIDogPC9mb250PjM2MTgyMzwvc3RyaW9uZz48YnI+PHN0cm9uZz48Yj5BY3RpdmUgQ2FzZXMgOiA5ODQ4Mjwvc3RyaW9uZz48L2Rpdj5gKVswXTsKICAgICAgICAgICAgICAgIHBvcHVwXzIwNTdkOTQ3OWQxYzRkMGI5OTM0ODQ1NDdhNzdkMDczLnNldENvbnRlbnQoaHRtbF82ZGVhYzkyN2Y0ODM0YWM1YmZiMWJjMzM0ZmYzZjc5ZSk7CiAgICAgICAgICAgIAoKICAgICAgICAgICAgbWFya2VyXzFhOTczZDViOTc3NzRmNjBhMmY4MWM2NzkwNGNmYWFjLmJpbmRQb3B1cChwb3B1cF8yMDU3ZDk0NzlkMWM0ZDBiOTkzNDg0NTQ3YTc3ZDA3MykKICAgICAgICAgICAgOwoKICAgICAgICAgICAgCiAgICAgICAgCiAgICAKICAgICAgICAgICAgdmFyIGNpcmNsZV9tYXJrZXJfYzBlOWI4NzJkNDc3NGU3MTlmZmNjZDkxYzRiNmIyOWYgPSBMLmNpcmNsZU1hcmtlcigKICAgICAgICAgICAgICAgIFsxMC44NSwgNzYuMjddLAogICAgICAgICAgICAgICAgewogICJidWJibGluZ01vdXNlRXZlbnRzIjogdHJ1ZSwKICAiY29sb3IiOiAicmVkIiwKICAiZGFzaEFycmF5IjogbnVsbCwKICAiZGFzaE9mZnNldCI6IG51bGwsCiAgImZpbGwiOiB0cnVlLAogICJmaWxsQ29sb3IiOiAicmVkIiwKICAiZmlsbE9wYWNpdHkiOiAwLjIsCiAgImZpbGxSdWxlIjogImV2ZW5vZGQiLAogICJsaW5lQ2FwIjogInJvdW5kIiwKICAibGluZUpvaW4iOiAicm91bmQiLAogICJvcGFjaXR5IjogMS4wLAogICJyYWRpdXMiOiA1LAogICJzdHJva2UiOiB0cnVlLAogICJ3ZWlnaHQiOiAzCn0KICAgICAgICAgICAgICAgICkKICAgICAgICAgICAgICAgIC5hZGRUbyhtYXBfNmZhZTIzNGQzODNkNDM5MWE3Mzc2NjhkMjI2ZmJmZjIpOwogICAgICAgICAgICAKICAgIAogICAgICAgIHZhciBtYXJrZXJfMTJhY2VkMmVjMjY5NGU1MDg0ZThiOGRjOGRkMjcwMDQgPSBMLm1hcmtlcigKICAgICAgICAgICAgWzEwLjg1LCA3Ni4yN10sCiAgICAgICAgICAgIHsKICAgICAgICAgICAgICAgIGljb246IG5ldyBMLkljb24uRGVmYXVsdCgpLAogICAgICAgICAgICAgICAgfQogICAgICAgICAgICApLmFkZFRvKG1hcF82ZmFlMjM0ZDM4M2Q0MzkxYTczNzY2OGQyMjZmYmZmMik7CiAgICAgICAgCiAgICAKICAgICAgICAgICAgdmFyIHBvcHVwX2VkODgyYzQ3NDUwZjQyNmZiMWRjYmI3Y2EyNTA1ZWE5ID0gTC5wb3B1cCh7bWF4V2lkdGg6ICcyMDAnCiAgICAgICAgICAgIAogICAgICAgICAgICB9KTsKCiAgICAgICAgICAgIAogICAgICAgICAgICAgICAgdmFyIGh0bWxfZjQ0YmVlMDJjOWU3NGI3Mzg2MDNjOGMxN2Y5MjZjMzkgPSAkKGA8ZGl2IGlkPSJodG1sX2Y0NGJlZTAyYzllNzRiNzM4NjAzYzhjMTdmOTI2YzM5IiBzdHlsZT0id2lkdGg6IDEwMC4wJTsgaGVpZ2h0OiAxMDAuMCU7Ij48c3Ryb25nPjxiPlN0YXRlICA6IEtlcmFsYTwvc3Ryb25nPiA8YnI+PHN0cm9uZz48Yj5Ub3RhbCBDYXNlcyA6IDExMDgxODwvc3RyaW9uZz48YnI+PHN0cm9uZz48Zm9udCBjb2xvcj0gcmVkPkRlYXRocyA6IDwvZm9udD40NTRbY108L3N0cmlvbmc+PGJyPjxzdHJvbmc+PGZvbnQgY29sb3I9Z3JlZW4+UmVjb3ZlcmllcyA6IDwvZm9udD43OTgwOTwvc3RyaW9uZz48YnI+PHN0cm9uZz48Yj5BY3RpdmUgQ2FzZXMgOiAzMDU1NTwvc3RyaW9uZz48L2Rpdj5gKVswXTsKICAgICAgICAgICAgICAgIHBvcHVwX2VkODgyYzQ3NDUwZjQyNmZiMWRjYmI3Y2EyNTA1ZWE5LnNldENvbnRlbnQoaHRtbF9mNDRiZWUwMmM5ZTc0YjczODYwM2M4YzE3ZjkyNmMzOSk7CiAgICAgICAgICAgIAoKICAgICAgICAgICAgbWFya2VyXzEyYWNlZDJlYzI2OTRlNTA4NGU4YjhkYzhkZDI3MDA0LmJpbmRQb3B1cChwb3B1cF9lZDg4MmM0NzQ1MGY0MjZmYjFkY2JiN2NhMjUwNWVhOSkKICAgICAgICAgICAgOwoKICAgICAgICAgICAgCiAgICAgICAgCiAgICAKICAgICAgICAgICAgdmFyIGNpcmNsZV9tYXJrZXJfNWIxZmIyMTA4ODg2NDkwOTk3NmUzODczOGUwNmY5MmQgPSBMLmNpcmNsZU1hcmtlcigKICAgICAgICAgICAgICAgIFsyMi45NywgNzguNjVdLAogICAgICAgICAgICAgICAgewogICJidWJibGluZ01vdXNlRXZlbnRzIjogdHJ1ZSwKICAiY29sb3IiOiAicmVkIiwKICAiZGFzaEFycmF5IjogbnVsbCwKICAiZGFzaE9mZnNldCI6IG51bGwsCiAgImZpbGwiOiB0cnVlLAogICJmaWxsQ29sb3IiOiAicmVkIiwKICAiZmlsbE9wYWNpdHkiOiAwLjIsCiAgImZpbGxSdWxlIjogImV2ZW5vZGQiLAogICJsaW5lQ2FwIjogInJvdW5kIiwKICAibGluZUpvaW4iOiAicm91bmQiLAogICJvcGFjaXR5IjogMS4wLAogICJyYWRpdXMiOiA1LAogICJzdHJva2UiOiB0cnVlLAogICJ3ZWlnaHQiOiAzCn0KICAgICAgICAgICAgICAgICkKICAgICAgICAgICAgICAgIC5hZGRUbyhtYXBfNmZhZTIzNGQzODNkNDM5MWE3Mzc2NjhkMjI2ZmJmZjIpOwogICAgICAgICAgICAKICAgIAogICAgICAgIHZhciBtYXJrZXJfZWY0Y2VlNmU1ZTZhNDUyYmE1MzU3Yjk3NDgwMjhmMDEgPSBMLm1hcmtlcigKICAgICAgICAgICAgWzIyLjk3LCA3OC42NV0sCiAgICAgICAgICAgIHsKICAgICAgICAgICAgICAgIGljb246IG5ldyBMLkljb24uRGVmYXVsdCgpLAogICAgICAgICAgICAgICAgfQogICAgICAgICAgICApLmFkZFRvKG1hcF82ZmFlMjM0ZDM4M2Q0MzkxYTczNzY2OGQyMjZmYmZmMik7CiAgICAgICAgCiAgICAKICAgICAgICAgICAgdmFyIHBvcHVwX2M5MzU2NmM2ZDMyODRkN2ZhMWQyZjJkYjcxZWI3MWM1ID0gTC5wb3B1cCh7bWF4V2lkdGg6ICcyMDAnCiAgICAgICAgICAgIAogICAgICAgICAgICB9KTsKCiAgICAgICAgICAgIAogICAgICAgICAgICAgICAgdmFyIGh0bWxfZjU3ZTg0MDNlZTZmNDlmNjkwOTdkMmRmODg3MWYxOWYgPSAkKGA8ZGl2IGlkPSJodG1sX2Y1N2U4NDAzZWU2ZjQ5ZjY5MDk3ZDJkZjg4NzFmMTlmIiBzdHlsZT0id2lkdGg6IDEwMC4wJTsgaGVpZ2h0OiAxMDAuMCU7Ij48c3Ryb25nPjxiPlN0YXRlICA6IE1hZGh5YSBQcmFkZXNoPC9zdHJvbmc+IDxicj48c3Ryb25nPjxiPlRvdGFsIENhc2VzIDogOTA3MzA8L3N0cmlvbmc+PGJyPjxzdHJvbmc+PGZvbnQgY29sb3I9IHJlZD5EZWF0aHMgOiA8L2ZvbnQ+MTc5MTwvc3RyaW9uZz48YnI+PHN0cm9uZz48Zm9udCBjb2xvcj1ncmVlbj5SZWNvdmVyaWVzIDogPC9mb250PjY3NzExPC9zdHJpb25nPjxicj48c3Ryb25nPjxiPkFjdGl2ZSBDYXNlcyA6IDIxMjI4PC9zdHJpb25nPjwvZGl2PmApWzBdOwogICAgICAgICAgICAgICAgcG9wdXBfYzkzNTY2YzZkMzI4NGQ3ZmExZDJmMmRiNzFlYjcxYzUuc2V0Q29udGVudChodG1sX2Y1N2U4NDAzZWU2ZjQ5ZjY5MDk3ZDJkZjg4NzFmMTlmKTsKICAgICAgICAgICAgCgogICAgICAgICAgICBtYXJrZXJfZWY0Y2VlNmU1ZTZhNDUyYmE1MzU3Yjk3NDgwMjhmMDEuYmluZFBvcHVwKHBvcHVwX2M5MzU2NmM2ZDMyODRkN2ZhMWQyZjJkYjcxZWI3MWM1KQogICAgICAgICAgICA7CgogICAgICAgICAgICAKICAgICAgICAKICAgIAogICAgICAgICAgICB2YXIgY2lyY2xlX21hcmtlcl81YjE0YzgyZjc2ODY0MDU4OGU3NjlmOGQyMWI2Y2UwYiA9IEwuY2lyY2xlTWFya2VyKAogICAgICAgICAgICAgICAgWzE5Ljc1LCA3NS43MV0sCiAgICAgICAgICAgICAgICB7CiAgImJ1YmJsaW5nTW91c2VFdmVudHMiOiB0cnVlLAogICJjb2xvciI6ICJyZWQiLAogICJkYXNoQXJyYXkiOiBudWxsLAogICJkYXNoT2Zmc2V0IjogbnVsbCwKICAiZmlsbCI6IHRydWUsCiAgImZpbGxDb2xvciI6ICJyZWQiLAogICJmaWxsT3BhY2l0eSI6IDAuMiwKICAiZmlsbFJ1bGUiOiAiZXZlbm9kZCIsCiAgImxpbmVDYXAiOiAicm91bmQiLAogICJsaW5lSm9pbiI6ICJyb3VuZCIsCiAgIm9wYWNpdHkiOiAxLjAsCiAgInJhZGl1cyI6IDUsCiAgInN0cm9rZSI6IHRydWUsCiAgIndlaWdodCI6IDMKfQogICAgICAgICAgICAgICAgKQogICAgICAgICAgICAgICAgLmFkZFRvKG1hcF82ZmFlMjM0ZDM4M2Q0MzkxYTczNzY2OGQyMjZmYmZmMik7CiAgICAgICAgICAgIAogICAgCiAgICAgICAgdmFyIG1hcmtlcl83Njg0YWZmZjgyMjQ0NTg0YTIzYjI1NTQ4MGUzZDMyNSA9IEwubWFya2VyKAogICAgICAgICAgICBbMTkuNzUsIDc1LjcxXSwKICAgICAgICAgICAgewogICAgICAgICAgICAgICAgaWNvbjogbmV3IEwuSWNvbi5EZWZhdWx0KCksCiAgICAgICAgICAgICAgICB9CiAgICAgICAgICAgICkuYWRkVG8obWFwXzZmYWUyMzRkMzgzZDQzOTFhNzM3NjY4ZDIyNmZiZmYyKTsKICAgICAgICAKICAgIAogICAgICAgICAgICB2YXIgcG9wdXBfZjJjOTZjMTA5NmIyNDExZWExZTg5NzQ1YjY1NTRiMDkgPSBMLnBvcHVwKHttYXhXaWR0aDogJzIwMCcKICAgICAgICAgICAgCiAgICAgICAgICAgIH0pOwoKICAgICAgICAgICAgCiAgICAgICAgICAgICAgICB2YXIgaHRtbF9iMTBhNWZhOWFiZmY0ZjIxYTMyNDI4NjI1NGJkNTRmZiA9ICQoYDxkaXYgaWQ9Imh0bWxfYjEwYTVmYTlhYmZmNGYyMWEzMjQyODYyNTRiZDU0ZmYiIHN0eWxlPSJ3aWR0aDogMTAwLjAlOyBoZWlnaHQ6IDEwMC4wJTsiPjxzdHJvbmc+PGI+U3RhdGUgIDogTWFoYXJhc2h0cmE8L3N0cm9uZz4gPGJyPjxzdHJvbmc+PGI+VG90YWwgQ2FzZXMgOiAxMDc3Mzc0PC9zdHJpb25nPjxicj48c3Ryb25nPjxmb250IGNvbG9yPSByZWQ+RGVhdGhzIDogPC9mb250PjI5ODk0PC9zdHJpb25nPjxicj48c3Ryb25nPjxmb250IGNvbG9yPWdyZWVuPlJlY292ZXJpZXMgOiA8L2ZvbnQ+NzU1ODUwPC9zdHJpb25nPjxicj48c3Ryb25nPjxiPkFjdGl2ZSBDYXNlcyA6IDI5MTYzMDwvc3RyaW9uZz48L2Rpdj5gKVswXTsKICAgICAgICAgICAgICAgIHBvcHVwX2YyYzk2YzEwOTZiMjQxMWVhMWU4OTc0NWI2NTU0YjA5LnNldENvbnRlbnQoaHRtbF9iMTBhNWZhOWFiZmY0ZjIxYTMyNDI4NjI1NGJkNTRmZik7CiAgICAgICAgICAgIAoKICAgICAgICAgICAgbWFya2VyXzc2ODRhZmZmODIyNDQ1ODRhMjNiMjU1NDgwZTNkMzI1LmJpbmRQb3B1cChwb3B1cF9mMmM5NmMxMDk2YjI0MTFlYTFlODk3NDViNjU1NGIwOSkKICAgICAgICAgICAgOwoKICAgICAgICAgICAgCiAgICAgICAgCiAgICAKICAgICAgICAgICAgdmFyIGNpcmNsZV9tYXJrZXJfYTY2NGU1MTA0NTIxNGU3MGE0NWI0MmEzM2Q0NmEzOTMgPSBMLmNpcmNsZU1hcmtlcigKICAgICAgICAgICAgICAgIFsyNC42NiwgOTMuOV0sCiAgICAgICAgICAgICAgICB7CiAgImJ1YmJsaW5nTW91c2VFdmVudHMiOiB0cnVlLAogICJjb2xvciI6ICJyZWQiLAogICJkYXNoQXJyYXkiOiBudWxsLAogICJkYXNoT2Zmc2V0IjogbnVsbCwKICAiZmlsbCI6IHRydWUsCiAgImZpbGxDb2xvciI6ICJyZWQiLAogICJmaWxsT3BhY2l0eSI6IDAuMiwKICAiZmlsbFJ1bGUiOiAiZXZlbm9kZCIsCiAgImxpbmVDYXAiOiAicm91bmQiLAogICJsaW5lSm9pbiI6ICJyb3VuZCIsCiAgIm9wYWNpdHkiOiAxLjAsCiAgInJhZGl1cyI6IDUsCiAgInN0cm9rZSI6IHRydWUsCiAgIndlaWdodCI6IDMKfQogICAgICAgICAgICAgICAgKQogICAgICAgICAgICAgICAgLmFkZFRvKG1hcF82ZmFlMjM0ZDM4M2Q0MzkxYTczNzY2OGQyMjZmYmZmMik7CiAgICAgICAgICAgIAogICAgCiAgICAgICAgdmFyIG1hcmtlcl83Mjg0MjRlNmQ4ZTg0YWY4OGJiODhlMTUyODJmN2NlNCA9IEwubWFya2VyKAogICAgICAgICAgICBbMjQuNjYsIDkzLjldLAogICAgICAgICAgICB7CiAgICAgICAgICAgICAgICBpY29uOiBuZXcgTC5JY29uLkRlZmF1bHQoKSwKICAgICAgICAgICAgICAgIH0KICAgICAgICAgICAgKS5hZGRUbyhtYXBfNmZhZTIzNGQzODNkNDM5MWE3Mzc2NjhkMjI2ZmJmZjIpOwogICAgICAgIAogICAgCiAgICAgICAgICAgIHZhciBwb3B1cF81MzRiZGQ4ODM2ZDA0MGNiODkwYzM0MmZiMjZiZmMwNCA9IEwucG9wdXAoe21heFdpZHRoOiAnMjAwJwogICAgICAgICAgICAKICAgICAgICAgICAgfSk7CgogICAgICAgICAgICAKICAgICAgICAgICAgICAgIHZhciBodG1sXzEyZGUzNDk2ZDcwZDQ2ZmJiMWI4ZDNjMGU3ZDY1NDI0ID0gJChgPGRpdiBpZD0iaHRtbF8xMmRlMzQ5NmQ3MGQ0NmZiYjFiOGQzYzBlN2Q2NTQyNCIgc3R5bGU9IndpZHRoOiAxMDAuMCU7IGhlaWdodDogMTAwLjAlOyI+PHN0cm9uZz48Yj5TdGF0ZSAgOiBNYW5pcHVyPC9zdHJvbmc+IDxicj48c3Ryb25nPjxiPlRvdGFsIENhc2VzIDogNzk3MTwvc3RyaW9uZz48YnI+PHN0cm9uZz48Zm9udCBjb2xvcj0gcmVkPkRlYXRocyA6IDwvZm9udD40Njwvc3RyaW9uZz48YnI+PHN0cm9uZz48Zm9udCBjb2xvcj1ncmVlbj5SZWNvdmVyaWVzIDogPC9mb250PjYzNDA8L3N0cmlvbmc+PGJyPjxzdHJvbmc+PGI+QWN0aXZlIENhc2VzIDogMTU4NTwvc3RyaW9uZz48L2Rpdj5gKVswXTsKICAgICAgICAgICAgICAgIHBvcHVwXzUzNGJkZDg4MzZkMDQwY2I4OTBjMzQyZmIyNmJmYzA0LnNldENvbnRlbnQoaHRtbF8xMmRlMzQ5NmQ3MGQ0NmZiYjFiOGQzYzBlN2Q2NTQyNCk7CiAgICAgICAgICAgIAoKICAgICAgICAgICAgbWFya2VyXzcyODQyNGU2ZDhlODRhZjg4YmI4OGUxNTI4MmY3Y2U0LmJpbmRQb3B1cChwb3B1cF81MzRiZGQ4ODM2ZDA0MGNiODkwYzM0MmZiMjZiZmMwNCkKICAgICAgICAgICAgOwoKICAgICAgICAgICAgCiAgICAgICAgCiAgICAKICAgICAgICAgICAgdmFyIGNpcmNsZV9tYXJrZXJfYmI1Zjg2Y2QwYmE0NGU5ZTkyNTExNzE5NGRiZTQ5MGEgPSBMLmNpcmNsZU1hcmtlcigKICAgICAgICAgICAgICAgIFsyNS40NiwgOTEuMzZdLAogICAgICAgICAgICAgICAgewogICJidWJibGluZ01vdXNlRXZlbnRzIjogdHJ1ZSwKICAiY29sb3IiOiAicmVkIiwKICAiZGFzaEFycmF5IjogbnVsbCwKICAiZGFzaE9mZnNldCI6IG51bGwsCiAgImZpbGwiOiB0cnVlLAogICJmaWxsQ29sb3IiOiAicmVkIiwKICAiZmlsbE9wYWNpdHkiOiAwLjIsCiAgImZpbGxSdWxlIjogImV2ZW5vZGQiLAogICJsaW5lQ2FwIjogInJvdW5kIiwKICAibGluZUpvaW4iOiAicm91bmQiLAogICJvcGFjaXR5IjogMS4wLAogICJyYWRpdXMiOiA1LAogICJzdHJva2UiOiB0cnVlLAogICJ3ZWlnaHQiOiAzCn0KICAgICAgICAgICAgICAgICkKICAgICAgICAgICAgICAgIC5hZGRUbyhtYXBfNmZhZTIzNGQzODNkNDM5MWE3Mzc2NjhkMjI2ZmJmZjIpOwogICAgICAgICAgICAKICAgIAogICAgICAgIHZhciBtYXJrZXJfODdlZWUwODBmMTRkNDUwM2I3OTE0ODdkODc3NGExOTUgPSBMLm1hcmtlcigKICAgICAgICAgICAgWzI1LjQ2LCA5MS4zNl0sCiAgICAgICAgICAgIHsKICAgICAgICAgICAgICAgIGljb246IG5ldyBMLkljb24uRGVmYXVsdCgpLAogICAgICAgICAgICAgICAgfQogICAgICAgICAgICApLmFkZFRvKG1hcF82ZmFlMjM0ZDM4M2Q0MzkxYTczNzY2OGQyMjZmYmZmMik7CiAgICAgICAgCiAgICAKICAgICAgICAgICAgdmFyIHBvcHVwXzY5MzhmYmVmY2I2NDQ3MDBhMTQxOWVlZmFjMjQyMmI4ID0gTC5wb3B1cCh7bWF4V2lkdGg6ICcyMDAnCiAgICAgICAgICAgIAogICAgICAgICAgICB9KTsKCiAgICAgICAgICAgIAogICAgICAgICAgICAgICAgdmFyIGh0bWxfZDdlYmUxMTQ2ODg0NGUxMTlhOWJhZTFmOWM4ODhmOTkgPSAkKGA8ZGl2IGlkPSJodG1sX2Q3ZWJlMTE0Njg4NDRlMTE5YTliYWUxZjljODg4Zjk5IiBzdHlsZT0id2lkdGg6IDEwMC4wJTsgaGVpZ2h0OiAxMDAuMCU7Ij48c3Ryb25nPjxiPlN0YXRlICA6IE1lZ2hhbGF5YTwvc3Ryb25nPiA8YnI+PHN0cm9uZz48Yj5Ub3RhbCBDYXNlcyA6IDM4NjQ8L3N0cmlvbmc+PGJyPjxzdHJvbmc+PGZvbnQgY29sb3I9IHJlZD5EZWF0aHMgOiA8L2ZvbnQ+Mjc8L3N0cmlvbmc+PGJyPjxzdHJvbmc+PGZvbnQgY29sb3I9Z3JlZW4+UmVjb3ZlcmllcyA6IDwvZm9udD4yMTUxPC9zdHJpb25nPjxicj48c3Ryb25nPjxiPkFjdGl2ZSBDYXNlcyA6IDE2ODY8L3N0cmlvbmc+PC9kaXY+YClbMF07CiAgICAgICAgICAgICAgICBwb3B1cF82OTM4ZmJlZmNiNjQ0NzAwYTE0MTllZWZhYzI0MjJiOC5zZXRDb250ZW50KGh0bWxfZDdlYmUxMTQ2ODg0NGUxMTlhOWJhZTFmOWM4ODhmOTkpOwogICAgICAgICAgICAKCiAgICAgICAgICAgIG1hcmtlcl84N2VlZTA4MGYxNGQ0NTAzYjc5MTQ4N2Q4Nzc0YTE5NS5iaW5kUG9wdXAocG9wdXBfNjkzOGZiZWZjYjY0NDcwMGExNDE5ZWVmYWMyNDIyYjgpCiAgICAgICAgICAgIDsKCiAgICAgICAgICAgIAogICAgICAgIAogICAgCiAgICAgICAgICAgIHZhciBjaXJjbGVfbWFya2VyX2QyYjE0ZjEzZmVjMzQ0Yjk4ZGYxMDhkNzA4ZmM0MDRlID0gTC5jaXJjbGVNYXJrZXIoCiAgICAgICAgICAgICAgICBbMjMuMTYsIDkyLjkzXSwKICAgICAgICAgICAgICAgIHsKICAiYnViYmxpbmdNb3VzZUV2ZW50cyI6IHRydWUsCiAgImNvbG9yIjogInJlZCIsCiAgImRhc2hBcnJheSI6IG51bGwsCiAgImRhc2hPZmZzZXQiOiBudWxsLAogICJmaWxsIjogdHJ1ZSwKICAiZmlsbENvbG9yIjogInJlZCIsCiAgImZpbGxPcGFjaXR5IjogMC4yLAogICJmaWxsUnVsZSI6ICJldmVub2RkIiwKICAibGluZUNhcCI6ICJyb3VuZCIsCiAgImxpbmVKb2luIjogInJvdW5kIiwKICAib3BhY2l0eSI6IDEuMCwKICAicmFkaXVzIjogNSwKICAic3Ryb2tlIjogdHJ1ZSwKICAid2VpZ2h0IjogMwp9CiAgICAgICAgICAgICAgICApCiAgICAgICAgICAgICAgICAuYWRkVG8obWFwXzZmYWUyMzRkMzgzZDQzOTFhNzM3NjY4ZDIyNmZiZmYyKTsKICAgICAgICAgICAgCiAgICAKICAgICAgICB2YXIgbWFya2VyXzI4MTgwZDhkYzUxYzQ1NDhiMmVlMTAxNjk5ZTcxNzAwID0gTC5tYXJrZXIoCiAgICAgICAgICAgIFsyMy4xNiwgOTIuOTNdLAogICAgICAgICAgICB7CiAgICAgICAgICAgICAgICBpY29uOiBuZXcgTC5JY29uLkRlZmF1bHQoKSwKICAgICAgICAgICAgICAgIH0KICAgICAgICAgICAgKS5hZGRUbyhtYXBfNmZhZTIzNGQzODNkNDM5MWE3Mzc2NjhkMjI2ZmJmZjIpOwogICAgICAgIAogICAgCiAgICAgICAgICAgIHZhciBwb3B1cF84NWIxN2YzYTk0ODA0YjU1OWM1YWNiMWZiZTU1ZjcwYyA9IEwucG9wdXAoe21heFdpZHRoOiAnMjAwJwogICAgICAgICAgICAKICAgICAgICAgICAgfSk7CgogICAgICAgICAgICAKICAgICAgICAgICAgICAgIHZhciBodG1sXzUwZWUwZmZkNzliZDRjNWRiOWUxNWU0ODk0NmUzNDU3ID0gJChgPGRpdiBpZD0iaHRtbF81MGVlMGZmZDc5YmQ0YzVkYjllMTVlNDg5NDZlMzQ1NyIgc3R5bGU9IndpZHRoOiAxMDAuMCU7IGhlaWdodDogMTAwLjAlOyI+PHN0cm9uZz48Yj5TdGF0ZSAgOiBNaXpvcmFtPC9zdHJvbmc+IDxicj48c3Ryb25nPjxiPlRvdGFsIENhc2VzIDogMTQ2ODwvc3RyaW9uZz48YnI+PHN0cm9uZz48Zm9udCBjb2xvcj0gcmVkPkRlYXRocyA6IDwvZm9udD4wPC9zdHJpb25nPjxicj48c3Ryb25nPjxmb250IGNvbG9yPWdyZWVuPlJlY292ZXJpZXMgOiA8L2ZvbnQ+OTE5PC9zdHJpb25nPjxicj48c3Ryb25nPjxiPkFjdGl2ZSBDYXNlcyA6IDU0OTwvc3RyaW9uZz48L2Rpdj5gKVswXTsKICAgICAgICAgICAgICAgIHBvcHVwXzg1YjE3ZjNhOTQ4MDRiNTU5YzVhY2IxZmJlNTVmNzBjLnNldENvbnRlbnQoaHRtbF81MGVlMGZmZDc5YmQ0YzVkYjllMTVlNDg5NDZlMzQ1Nyk7CiAgICAgICAgICAgIAoKICAgICAgICAgICAgbWFya2VyXzI4MTgwZDhkYzUxYzQ1NDhiMmVlMTAxNjk5ZTcxNzAwLmJpbmRQb3B1cChwb3B1cF84NWIxN2YzYTk0ODA0YjU1OWM1YWNiMWZiZTU1ZjcwYykKICAgICAgICAgICAgOwoKICAgICAgICAgICAgCiAgICAgICAgCiAgICAKICAgICAgICAgICAgdmFyIGNpcmNsZV9tYXJrZXJfZjNlOWQ5MTViMmZjNGRiZWJhZDE3ZDFjYjc5ZTVmNDIgPSBMLmNpcmNsZU1hcmtlcigKICAgICAgICAgICAgICAgIFsyNi4xNSwgOTQuNTZdLAogICAgICAgICAgICAgICAgewogICJidWJibGluZ01vdXNlRXZlbnRzIjogdHJ1ZSwKICAiY29sb3IiOiAicmVkIiwKICAiZGFzaEFycmF5IjogbnVsbCwKICAiZGFzaE9mZnNldCI6IG51bGwsCiAgImZpbGwiOiB0cnVlLAogICJmaWxsQ29sb3IiOiAicmVkIiwKICAiZmlsbE9wYWNpdHkiOiAwLjIsCiAgImZpbGxSdWxlIjogImV2ZW5vZGQiLAogICJsaW5lQ2FwIjogInJvdW5kIiwKICAibGluZUpvaW4iOiAicm91bmQiLAogICJvcGFjaXR5IjogMS4wLAogICJyYWRpdXMiOiA1LAogICJzdHJva2UiOiB0cnVlLAogICJ3ZWlnaHQiOiAzCn0KICAgICAgICAgICAgICAgICkKICAgICAgICAgICAgICAgIC5hZGRUbyhtYXBfNmZhZTIzNGQzODNkNDM5MWE3Mzc2NjhkMjI2ZmJmZjIpOwogICAgICAgICAgICAKICAgIAogICAgICAgIHZhciBtYXJrZXJfMjgzNGI3ZTdmYWIzNDMzMGE4ZDkxNTQwM2E4OGRmYjIgPSBMLm1hcmtlcigKICAgICAgICAgICAgWzI2LjE1LCA5NC41Nl0sCiAgICAgICAgICAgIHsKICAgICAgICAgICAgICAgIGljb246IG5ldyBMLkljb24uRGVmYXVsdCgpLAogICAgICAgICAgICAgICAgfQogICAgICAgICAgICApLmFkZFRvKG1hcF82ZmFlMjM0ZDM4M2Q0MzkxYTczNzY2OGQyMjZmYmZmMik7CiAgICAgICAgCiAgICAKICAgICAgICAgICAgdmFyIHBvcHVwXzhjMmM2OWQ0MTY5NTRkMzY4MTE1MmVlMDFkMDgxMDIyID0gTC5wb3B1cCh7bWF4V2lkdGg6ICcyMDAnCiAgICAgICAgICAgIAogICAgICAgICAgICB9KTsKCiAgICAgICAgICAgIAogICAgICAgICAgICAgICAgdmFyIGh0bWxfOTUxYzBjZmZlZDlkNGFmNjg1NTRkOWQ2ZWEzZDdiYTUgPSAkKGA8ZGl2IGlkPSJodG1sXzk1MWMwY2ZmZWQ5ZDRhZjY4NTU0ZDlkNmVhM2Q3YmE1IiBzdHlsZT0id2lkdGg6IDEwMC4wJTsgaGVpZ2h0OiAxMDAuMCU7Ij48c3Ryb25nPjxiPlN0YXRlICA6IE5hZ2FsYW5kPC9zdHJvbmc+IDxicj48c3Ryb25nPjxiPlRvdGFsIENhc2VzIDogNTIxNDwvc3RyaW9uZz48YnI+PHN0cm9uZz48Zm9udCBjb2xvcj0gcmVkPkRlYXRocyA6IDwvZm9udD4xMDwvc3RyaW9uZz48YnI+PHN0cm9uZz48Zm9udCBjb2xvcj1ncmVlbj5SZWNvdmVyaWVzIDogPC9mb250PjM5MTU8L3N0cmlvbmc+PGJyPjxzdHJvbmc+PGI+QWN0aXZlIENhc2VzIDogMTI4OTwvc3RyaW9uZz48L2Rpdj5gKVswXTsKICAgICAgICAgICAgICAgIHBvcHVwXzhjMmM2OWQ0MTY5NTRkMzY4MTE1MmVlMDFkMDgxMDIyLnNldENvbnRlbnQoaHRtbF85NTFjMGNmZmVkOWQ0YWY2ODU1NGQ5ZDZlYTNkN2JhNSk7CiAgICAgICAgICAgIAoKICAgICAgICAgICAgbWFya2VyXzI4MzRiN2U3ZmFiMzQzMzBhOGQ5MTU0MDNhODhkZmIyLmJpbmRQb3B1cChwb3B1cF84YzJjNjlkNDE2OTU0ZDM2ODExNTJlZTAxZDA4MTAyMikKICAgICAgICAgICAgOwoKICAgICAgICAgICAgCiAgICAgICAgCiAgICAKICAgICAgICAgICAgdmFyIGNpcmNsZV9tYXJrZXJfZjcyYWJjYWZlOTYwNDA2NGJhMzc4NDQ5YWViN2QxZTcgPSBMLmNpcmNsZU1hcmtlcigKICAgICAgICAgICAgICAgIFsyMC45NSwgODUuMDldLAogICAgICAgICAgICAgICAgewogICJidWJibGluZ01vdXNlRXZlbnRzIjogdHJ1ZSwKICAiY29sb3IiOiAicmVkIiwKICAiZGFzaEFycmF5IjogbnVsbCwKICAiZGFzaE9mZnNldCI6IG51bGwsCiAgImZpbGwiOiB0cnVlLAogICJmaWxsQ29sb3IiOiAicmVkIiwKICAiZmlsbE9wYWNpdHkiOiAwLjIsCiAgImZpbGxSdWxlIjogImV2ZW5vZGQiLAogICJsaW5lQ2FwIjogInJvdW5kIiwKICAibGluZUpvaW4iOiAicm91bmQiLAogICJvcGFjaXR5IjogMS4wLAogICJyYWRpdXMiOiA1LAogICJzdHJva2UiOiB0cnVlLAogICJ3ZWlnaHQiOiAzCn0KICAgICAgICAgICAgICAgICkKICAgICAgICAgICAgICAgIC5hZGRUbyhtYXBfNmZhZTIzNGQzODNkNDM5MWE3Mzc2NjhkMjI2ZmJmZjIpOwogICAgICAgICAgICAKICAgIAogICAgICAgIHZhciBtYXJrZXJfOGI5NGRmMjVkZjBkNDk1Zjg4YTk2ZTYwNjg1ZmNlZjIgPSBMLm1hcmtlcigKICAgICAgICAgICAgWzIwLjk1LCA4NS4wOV0sCiAgICAgICAgICAgIHsKICAgICAgICAgICAgICAgIGljb246IG5ldyBMLkljb24uRGVmYXVsdCgpLAogICAgICAgICAgICAgICAgfQogICAgICAgICAgICApLmFkZFRvKG1hcF82ZmFlMjM0ZDM4M2Q0MzkxYTczNzY2OGQyMjZmYmZmMik7CiAgICAgICAgCiAgICAKICAgICAgICAgICAgdmFyIHBvcHVwX2Y2ZTA1YmEwZjVmZDQzM2NhMDI1MTZmNzIxMWY2NWUwID0gTC5wb3B1cCh7bWF4V2lkdGg6ICcyMDAnCiAgICAgICAgICAgIAogICAgICAgICAgICB9KTsKCiAgICAgICAgICAgIAogICAgICAgICAgICAgICAgdmFyIGh0bWxfZjdkODgzNzFjNGFmNGIxNDgyYjc4MDJhZjgzMTMwZWUgPSAkKGA8ZGl2IGlkPSJodG1sX2Y3ZDg4MzcxYzRhZjRiMTQ4MmI3ODAyYWY4MzEzMGVlIiBzdHlsZT0id2lkdGg6IDEwMC4wJTsgaGVpZ2h0OiAxMDAuMCU7Ij48c3Ryb25nPjxiPlN0YXRlICA6IE9kaXNoYTwvc3Ryb25nPiA8YnI+PHN0cm9uZz48Yj5Ub3RhbCBDYXNlcyA6IDE1NTAwNTwvc3RyaW9uZz48YnI+PHN0cm9uZz48Zm9udCBjb2xvcj0gcmVkPkRlYXRocyA6IDwvZm9udD42Mzc8L3N0cmlvbmc+PGJyPjxzdHJvbmc+PGZvbnQgY29sb3I9Z3JlZW4+UmVjb3ZlcmllcyA6IDwvZm9udD4xMjIwMjQ8L3N0cmlvbmc+PGJyPjxzdHJvbmc+PGI+QWN0aXZlIENhc2VzIDogMzIzNDQ8L3N0cmlvbmc+PC9kaXY+YClbMF07CiAgICAgICAgICAgICAgICBwb3B1cF9mNmUwNWJhMGY1ZmQ0MzNjYTAyNTE2ZjcyMTFmNjVlMC5zZXRDb250ZW50KGh0bWxfZjdkODgzNzFjNGFmNGIxNDgyYjc4MDJhZjgzMTMwZWUpOwogICAgICAgICAgICAKCiAgICAgICAgICAgIG1hcmtlcl84Yjk0ZGYyNWRmMGQ0OTVmODhhOTZlNjA2ODVmY2VmMi5iaW5kUG9wdXAocG9wdXBfZjZlMDViYTBmNWZkNDMzY2EwMjUxNmY3MjExZjY1ZTApCiAgICAgICAgICAgIDsKCiAgICAgICAgICAgIAogICAgICAgIAogICAgCiAgICAgICAgICAgIHZhciBjaXJjbGVfbWFya2VyXzBmNmNjOGU4ZDA3MTQ1Y2Y4OTY2MTdlYTlhYjY0ZjRkID0gTC5jaXJjbGVNYXJrZXIoCiAgICAgICAgICAgICAgICBbMzEuMTQsIDc1LjM0XSwKICAgICAgICAgICAgICAgIHsKICAiYnViYmxpbmdNb3VzZUV2ZW50cyI6IHRydWUsCiAgImNvbG9yIjogInJlZCIsCiAgImRhc2hBcnJheSI6IG51bGwsCiAgImRhc2hPZmZzZXQiOiBudWxsLAogICJmaWxsIjogdHJ1ZSwKICAiZmlsbENvbG9yIjogInJlZCIsCiAgImZpbGxPcGFjaXR5IjogMC4yLAogICJmaWxsUnVsZSI6ICJldmVub2RkIiwKICAibGluZUNhcCI6ICJyb3VuZCIsCiAgImxpbmVKb2luIjogInJvdW5kIiwKICAib3BhY2l0eSI6IDEuMCwKICAicmFkaXVzIjogNSwKICAic3Ryb2tlIjogdHJ1ZSwKICAid2VpZ2h0IjogMwp9CiAgICAgICAgICAgICAgICApCiAgICAgICAgICAgICAgICAuYWRkVG8obWFwXzZmYWUyMzRkMzgzZDQzOTFhNzM3NjY4ZDIyNmZiZmYyKTsKICAgICAgICAgICAgCiAgICAKICAgICAgICB2YXIgbWFya2VyXzA0Mzc4YmIzNGQyYjQ3ZGI4ZWVkNjA4ZDMyMGI3NWMxID0gTC5tYXJrZXIoCiAgICAgICAgICAgIFszMS4xNCwgNzUuMzRdLAogICAgICAgICAgICB7CiAgICAgICAgICAgICAgICBpY29uOiBuZXcgTC5JY29uLkRlZmF1bHQoKSwKICAgICAgICAgICAgICAgIH0KICAgICAgICAgICAgKS5hZGRUbyhtYXBfNmZhZTIzNGQzODNkNDM5MWE3Mzc2NjhkMjI2ZmJmZjIpOwogICAgICAgIAogICAgCiAgICAgICAgICAgIHZhciBwb3B1cF80M2VhZGMyMTViOGY0MDcyOGU2ODYzODlmZmZmZTQzZSA9IEwucG9wdXAoe21heFdpZHRoOiAnMjAwJwogICAgICAgICAgICAKICAgICAgICAgICAgfSk7CgogICAgICAgICAgICAKICAgICAgICAgICAgICAgIHZhciBodG1sXzE0ZjFlMjNjNDU0NTRlNDhhMzQ4YTdkNTA3YTBiODY2ID0gJChgPGRpdiBpZD0iaHRtbF8xNGYxZTIzYzQ1NDU0ZTQ4YTM0OGE3ZDUwN2EwYjg2NiIgc3R5bGU9IndpZHRoOiAxMDAuMCU7IGhlaWdodDogMTAwLjAlOyI+PHN0cm9uZz48Yj5TdGF0ZSAgOiBQdW5qYWI8L3N0cm9uZz4gPGJyPjxzdHJvbmc+PGI+VG90YWwgQ2FzZXMgOiA4MjExMzwvc3RyaW9uZz48YnI+PHN0cm9uZz48Zm9udCBjb2xvcj0gcmVkPkRlYXRocyA6IDwvZm9udD4yNDI0PC9zdHJpb25nPjxicj48c3Ryb25nPjxmb250IGNvbG9yPWdyZWVuPlJlY292ZXJpZXMgOiA8L2ZvbnQ+NTg5OTk8L3N0cmlvbmc+PGJyPjxzdHJvbmc+PGI+QWN0aXZlIENhc2VzIDogMjA2OTA8L3N0cmlvbmc+PC9kaXY+YClbMF07CiAgICAgICAgICAgICAgICBwb3B1cF80M2VhZGMyMTViOGY0MDcyOGU2ODYzODlmZmZmZTQzZS5zZXRDb250ZW50KGh0bWxfMTRmMWUyM2M0NTQ1NGU0OGEzNDhhN2Q1MDdhMGI4NjYpOwogICAgICAgICAgICAKCiAgICAgICAgICAgIG1hcmtlcl8wNDM3OGJiMzRkMmI0N2RiOGVlZDYwOGQzMjBiNzVjMS5iaW5kUG9wdXAocG9wdXBfNDNlYWRjMjE1YjhmNDA3MjhlNjg2Mzg5ZmZmZmU0M2UpCiAgICAgICAgICAgIDsKCiAgICAgICAgICAgIAogICAgICAgIAogICAgCiAgICAgICAgICAgIHZhciBjaXJjbGVfbWFya2VyXzY0NmM4MzBmOGQ5MjRjOGE5NmU2YzNkZWEwZTgxZTEwID0gTC5jaXJjbGVNYXJrZXIoCiAgICAgICAgICAgICAgICBbMjcuMDIsIDc0LjIxXSwKICAgICAgICAgICAgICAgIHsKICAiYnViYmxpbmdNb3VzZUV2ZW50cyI6IHRydWUsCiAgImNvbG9yIjogInJlZCIsCiAgImRhc2hBcnJheSI6IG51bGwsCiAgImRhc2hPZmZzZXQiOiBudWxsLAogICJmaWxsIjogdHJ1ZSwKICAiZmlsbENvbG9yIjogInJlZCIsCiAgImZpbGxPcGFjaXR5IjogMC4yLAogICJmaWxsUnVsZSI6ICJldmVub2RkIiwKICAibGluZUNhcCI6ICJyb3VuZCIsCiAgImxpbmVKb2luIjogInJvdW5kIiwKICAib3BhY2l0eSI6IDEuMCwKICAicmFkaXVzIjogNSwKICAic3Ryb2tlIjogdHJ1ZSwKICAid2VpZ2h0IjogMwp9CiAgICAgICAgICAgICAgICApCiAgICAgICAgICAgICAgICAuYWRkVG8obWFwXzZmYWUyMzRkMzgzZDQzOTFhNzM3NjY4ZDIyNmZiZmYyKTsKICAgICAgICAgICAgCiAgICAKICAgICAgICB2YXIgbWFya2VyX2Y3MWU3ODFmMjZmYzRjMjk4Y2YzY2VkMGUyZjEyZTQyID0gTC5tYXJrZXIoCiAgICAgICAgICAgIFsyNy4wMiwgNzQuMjFdLAogICAgICAgICAgICB7CiAgICAgICAgICAgICAgICBpY29uOiBuZXcgTC5JY29uLkRlZmF1bHQoKSwKICAgICAgICAgICAgICAgIH0KICAgICAgICAgICAgKS5hZGRUbyhtYXBfNmZhZTIzNGQzODNkNDM5MWE3Mzc2NjhkMjI2ZmJmZjIpOwogICAgICAgIAogICAgCiAgICAgICAgICAgIHZhciBwb3B1cF80ZTBhNjNmMTgwMWE0OGE4YmVkNDJhMzVlMWMzNGVhYyA9IEwucG9wdXAoe21heFdpZHRoOiAnMjAwJwogICAgICAgICAgICAKICAgICAgICAgICAgfSk7CgogICAgICAgICAgICAKICAgICAgICAgICAgICAgIHZhciBodG1sX2RiNjljZTg3YzA1MTQ4NmQ4NTA2OWE4ZTIzYmUyZDlhID0gJChgPGRpdiBpZD0iaHRtbF9kYjY5Y2U4N2MwNTE0ODZkODUwNjlhOGUyM2JlMmQ5YSIgc3R5bGU9IndpZHRoOiAxMDAuMCU7IGhlaWdodDogMTAwLjAlOyI+PHN0cm9uZz48Yj5TdGF0ZSAgOiBSYWphc3RoYW48L3N0cm9uZz4gPGJyPjxzdHJvbmc+PGI+VG90YWwgQ2FzZXMgOiAxMDQxMzg8L3N0cmlvbmc+PGJyPjxzdHJvbmc+PGZvbnQgY29sb3I9IHJlZD5EZWF0aHMgOiA8L2ZvbnQ+MTI1MDwvc3RyaW9uZz48YnI+PHN0cm9uZz48Zm9udCBjb2xvcj1ncmVlbj5SZWNvdmVyaWVzIDogPC9mb250Pjg2MTYyPC9zdHJpb25nPjxicj48c3Ryb25nPjxiPkFjdGl2ZSBDYXNlcyA6IDE2NzI2PC9zdHJpb25nPjwvZGl2PmApWzBdOwogICAgICAgICAgICAgICAgcG9wdXBfNGUwYTYzZjE4MDFhNDhhOGJlZDQyYTM1ZTFjMzRlYWMuc2V0Q29udGVudChodG1sX2RiNjljZTg3YzA1MTQ4NmQ4NTA2OWE4ZTIzYmUyZDlhKTsKICAgICAgICAgICAgCgogICAgICAgICAgICBtYXJrZXJfZjcxZTc4MWYyNmZjNGMyOThjZjNjZWQwZTJmMTJlNDIuYmluZFBvcHVwKHBvcHVwXzRlMGE2M2YxODAxYTQ4YThiZWQ0MmEzNWUxYzM0ZWFjKQogICAgICAgICAgICA7CgogICAgICAgICAgICAKICAgICAgICAKICAgIAogICAgICAgICAgICB2YXIgY2lyY2xlX21hcmtlcl8yZDcwZDBlYTgxZTk0YjMzOTljOWUzMWJkOTBmZmYxMyA9IEwuY2lyY2xlTWFya2VyKAogICAgICAgICAgICAgICAgWzI3LjUzLCA4OC41MV0sCiAgICAgICAgICAgICAgICB7CiAgImJ1YmJsaW5nTW91c2VFdmVudHMiOiB0cnVlLAogICJjb2xvciI6ICJyZWQiLAogICJkYXNoQXJyYXkiOiBudWxsLAogICJkYXNoT2Zmc2V0IjogbnVsbCwKICAiZmlsbCI6IHRydWUsCiAgImZpbGxDb2xvciI6ICJyZWQiLAogICJmaWxsT3BhY2l0eSI6IDAuMiwKICAiZmlsbFJ1bGUiOiAiZXZlbm9kZCIsCiAgImxpbmVDYXAiOiAicm91bmQiLAogICJsaW5lSm9pbiI6ICJyb3VuZCIsCiAgIm9wYWNpdHkiOiAxLjAsCiAgInJhZGl1cyI6IDUsCiAgInN0cm9rZSI6IHRydWUsCiAgIndlaWdodCI6IDMKfQogICAgICAgICAgICAgICAgKQogICAgICAgICAgICAgICAgLmFkZFRvKG1hcF82ZmFlMjM0ZDM4M2Q0MzkxYTczNzY2OGQyMjZmYmZmMik7CiAgICAgICAgICAgIAogICAgCiAgICAgICAgdmFyIG1hcmtlcl8xMWUwYzFmYjMwODQ0Zjc5OGQxZWFhY2JmMzUyMTU5OSA9IEwubWFya2VyKAogICAgICAgICAgICBbMjcuNTMsIDg4LjUxXSwKICAgICAgICAgICAgewogICAgICAgICAgICAgICAgaWNvbjogbmV3IEwuSWNvbi5EZWZhdWx0KCksCiAgICAgICAgICAgICAgICB9CiAgICAgICAgICAgICkuYWRkVG8obWFwXzZmYWUyMzRkMzgzZDQzOTFhNzM3NjY4ZDIyNmZiZmYyKTsKICAgICAgICAKICAgIAogICAgICAgICAgICB2YXIgcG9wdXBfNmMzZDhmY2Y2NGE3NDA3NmI5ZGMzYWI5ZjdkZmRmZDMgPSBMLnBvcHVwKHttYXhXaWR0aDogJzIwMCcKICAgICAgICAgICAgCiAgICAgICAgICAgIH0pOwoKICAgICAgICAgICAgCiAgICAgICAgICAgICAgICB2YXIgaHRtbF85OTFmNDI4MmJhN2Q0NTAwYTA0NjIxYmIwNzViNDIxYiA9ICQoYDxkaXYgaWQ9Imh0bWxfOTkxZjQyODJiYTdkNDUwMGEwNDYyMWJiMDc1YjQyMWIiIHN0eWxlPSJ3aWR0aDogMTAwLjAlOyBoZWlnaHQ6IDEwMC4wJTsiPjxzdHJvbmc+PGI+U3RhdGUgIDogU2lra2ltPC9zdHJvbmc+IDxicj48c3Ryb25nPjxiPlRvdGFsIENhc2VzIDogMjExOTwvc3RyaW9uZz48YnI+PHN0cm9uZz48Zm9udCBjb2xvcj0gcmVkPkRlYXRocyA6IDwvZm9udD4xNjwvc3RyaW9uZz48YnI+PHN0cm9uZz48Zm9udCBjb2xvcj1ncmVlbj5SZWNvdmVyaWVzIDogPC9mb250PjE1MjE8L3N0cmlvbmc+PGJyPjxzdHJvbmc+PGI+QWN0aXZlIENhc2VzIDogNTgyPC9zdHJpb25nPjwvZGl2PmApWzBdOwogICAgICAgICAgICAgICAgcG9wdXBfNmMzZDhmY2Y2NGE3NDA3NmI5ZGMzYWI5ZjdkZmRmZDMuc2V0Q29udGVudChodG1sXzk5MWY0MjgyYmE3ZDQ1MDBhMDQ2MjFiYjA3NWI0MjFiKTsKICAgICAgICAgICAgCgogICAgICAgICAgICBtYXJrZXJfMTFlMGMxZmIzMDg0NGY3OThkMWVhYWNiZjM1MjE1OTkuYmluZFBvcHVwKHBvcHVwXzZjM2Q4ZmNmNjRhNzQwNzZiOWRjM2FiOWY3ZGZkZmQzKQogICAgICAgICAgICA7CgogICAgICAgICAgICAKICAgICAgICAKICAgIAogICAgICAgICAgICB2YXIgY2lyY2xlX21hcmtlcl8wYTJhOGNhYWMyNTc0ZTZmYjI0M2NkNDAzYjdhMjUyMCA9IEwuY2lyY2xlTWFya2VyKAogICAgICAgICAgICAgICAgWzExLjEyLCA3OC42NV0sCiAgICAgICAgICAgICAgICB7CiAgImJ1YmJsaW5nTW91c2VFdmVudHMiOiB0cnVlLAogICJjb2xvciI6ICJyZWQiLAogICJkYXNoQXJyYXkiOiBudWxsLAogICJkYXNoT2Zmc2V0IjogbnVsbCwKICAiZmlsbCI6IHRydWUsCiAgImZpbGxDb2xvciI6ICJyZWQiLAogICJmaWxsT3BhY2l0eSI6IDAuMiwKICAiZmlsbFJ1bGUiOiAiZXZlbm9kZCIsCiAgImxpbmVDYXAiOiAicm91bmQiLAogICJsaW5lSm9pbiI6ICJyb3VuZCIsCiAgIm9wYWNpdHkiOiAxLjAsCiAgInJhZGl1cyI6IDUsCiAgInN0cm9rZSI6IHRydWUsCiAgIndlaWdodCI6IDMKfQogICAgICAgICAgICAgICAgKQogICAgICAgICAgICAgICAgLmFkZFRvKG1hcF82ZmFlMjM0ZDM4M2Q0MzkxYTczNzY2OGQyMjZmYmZmMik7CiAgICAgICAgICAgIAogICAgCiAgICAgICAgdmFyIG1hcmtlcl8xMTAyODgzYWJlMDg0YTM3YTE1OWVmZGZiZmIyNzY3NCA9IEwubWFya2VyKAogICAgICAgICAgICBbMTEuMTIsIDc4LjY1XSwKICAgICAgICAgICAgewogICAgICAgICAgICAgICAgaWNvbjogbmV3IEwuSWNvbi5EZWZhdWx0KCksCiAgICAgICAgICAgICAgICB9CiAgICAgICAgICAgICkuYWRkVG8obWFwXzZmYWUyMzRkMzgzZDQzOTFhNzM3NjY4ZDIyNmZiZmYyKTsKICAgICAgICAKICAgIAogICAgICAgICAgICB2YXIgcG9wdXBfZTZlNjdmNmMwMGMxNDM3Mzk1M2FiZmVlY2YzMDkzYTIgPSBMLnBvcHVwKHttYXhXaWR0aDogJzIwMCcKICAgICAgICAgICAgCiAgICAgICAgICAgIH0pOwoKICAgICAgICAgICAgCiAgICAgICAgICAgICAgICB2YXIgaHRtbF85NWM1NGYyNDY5ZTA0ZjI5OWIwN2FmMzJjN2M5Mjc3OSA9ICQoYDxkaXYgaWQ9Imh0bWxfOTVjNTRmMjQ2OWUwNGYyOTliMDdhZjMyYzdjOTI3NzkiIHN0eWxlPSJ3aWR0aDogMTAwLjAlOyBoZWlnaHQ6IDEwMC4wJTsiPjxzdHJvbmc+PGI+U3RhdGUgIDogVGFtaWwgTmFkdTwvc3Ryb25nPiA8YnI+PHN0cm9uZz48Yj5Ub3RhbCBDYXNlcyA6IDUwODUxMTwvc3RyaW9uZz48YnI+PHN0cm9uZz48Zm9udCBjb2xvcj0gcmVkPkRlYXRocyA6IDwvZm9udD44NDM0PC9zdHJpb25nPjxicj48c3Ryb25nPjxmb250IGNvbG9yPWdyZWVuPlJlY292ZXJpZXMgOiA8L2ZvbnQ+NDUzMTY1PC9zdHJpb25nPjxicj48c3Ryb25nPjxiPkFjdGl2ZSBDYXNlcyA6IDQ2OTEyPC9zdHJpb25nPjwvZGl2PmApWzBdOwogICAgICAgICAgICAgICAgcG9wdXBfZTZlNjdmNmMwMGMxNDM3Mzk1M2FiZmVlY2YzMDkzYTIuc2V0Q29udGVudChodG1sXzk1YzU0ZjI0NjllMDRmMjk5YjA3YWYzMmM3YzkyNzc5KTsKICAgICAgICAgICAgCgogICAgICAgICAgICBtYXJrZXJfMTEwMjg4M2FiZTA4NGEzN2ExNTllZmRmYmZiMjc2NzQuYmluZFBvcHVwKHBvcHVwX2U2ZTY3ZjZjMDBjMTQzNzM5NTNhYmZlZWNmMzA5M2EyKQogICAgICAgICAgICA7CgogICAgICAgICAgICAKICAgICAgICAKICAgIAogICAgICAgICAgICB2YXIgY2lyY2xlX21hcmtlcl8zNjRiZTE1NTgyZTg0MDk2YjdkMTA5YjU2ODUyZWRlMiA9IEwuY2lyY2xlTWFya2VyKAogICAgICAgICAgICAgICAgWzIzLjk0LCA5MS45OF0sCiAgICAgICAgICAgICAgICB7CiAgImJ1YmJsaW5nTW91c2VFdmVudHMiOiB0cnVlLAogICJjb2xvciI6ICJyZWQiLAogICJkYXNoQXJyYXkiOiBudWxsLAogICJkYXNoT2Zmc2V0IjogbnVsbCwKICAiZmlsbCI6IHRydWUsCiAgImZpbGxDb2xvciI6ICJyZWQiLAogICJmaWxsT3BhY2l0eSI6IDAuMiwKICAiZmlsbFJ1bGUiOiAiZXZlbm9kZCIsCiAgImxpbmVDYXAiOiAicm91bmQiLAogICJsaW5lSm9pbiI6ICJyb3VuZCIsCiAgIm9wYWNpdHkiOiAxLjAsCiAgInJhZGl1cyI6IDUsCiAgInN0cm9rZSI6IHRydWUsCiAgIndlaWdodCI6IDMKfQogICAgICAgICAgICAgICAgKQogICAgICAgICAgICAgICAgLmFkZFRvKG1hcF82ZmFlMjM0ZDM4M2Q0MzkxYTczNzY2OGQyMjZmYmZmMik7CiAgICAgICAgICAgIAogICAgCiAgICAgICAgdmFyIG1hcmtlcl80NDA2MWVkMmJhYjk0ZWMxOWFlZDQxYmMzYjgzZmRjYyA9IEwubWFya2VyKAogICAgICAgICAgICBbMjMuOTQsIDkxLjk4XSwKICAgICAgICAgICAgewogICAgICAgICAgICAgICAgaWNvbjogbmV3IEwuSWNvbi5EZWZhdWx0KCksCiAgICAgICAgICAgICAgICB9CiAgICAgICAgICAgICkuYWRkVG8obWFwXzZmYWUyMzRkMzgzZDQzOTFhNzM3NjY4ZDIyNmZiZmYyKTsKICAgICAgICAKICAgIAogICAgICAgICAgICB2YXIgcG9wdXBfN2Y2YzRhMGFiNTAwNDk0YjhmMmZiMzUwNGRjMjcwMTEgPSBMLnBvcHVwKHttYXhXaWR0aDogJzIwMCcKICAgICAgICAgICAgCiAgICAgICAgICAgIH0pOwoKICAgICAgICAgICAgCiAgICAgICAgICAgICAgICB2YXIgaHRtbF85NTI5Nzc1MjVlMmI0YTkwOWE4NDM0YWFjNGI1YmM1MyA9ICQoYDxkaXYgaWQ9Imh0bWxfOTUyOTc3NTI1ZTJiNGE5MDlhODQzNGFhYzRiNWJjNTMiIHN0eWxlPSJ3aWR0aDogMTAwLjAlOyBoZWlnaHQ6IDEwMC4wJTsiPjxzdHJvbmc+PGI+U3RhdGUgIDogVHJpcHVyYTwvc3Ryb25nPiA8YnI+PHN0cm9uZz48Yj5Ub3RhbCBDYXNlcyA6IDE5Njk2PC9zdHJpb25nPjxicj48c3Ryb25nPjxmb250IGNvbG9yPSByZWQ+RGVhdGhzIDogPC9mb250PjIwNzwvc3RyaW9uZz48YnI+PHN0cm9uZz48Zm9udCBjb2xvcj1ncmVlbj5SZWNvdmVyaWVzIDogPC9mb250PjExOTI1PC9zdHJpb25nPjxicj48c3Ryb25nPjxiPkFjdGl2ZSBDYXNlcyA6IDc1NjQ8L3N0cmlvbmc+PC9kaXY+YClbMF07CiAgICAgICAgICAgICAgICBwb3B1cF83ZjZjNGEwYWI1MDA0OTRiOGYyZmIzNTA0ZGMyNzAxMS5zZXRDb250ZW50KGh0bWxfOTUyOTc3NTI1ZTJiNGE5MDlhODQzNGFhYzRiNWJjNTMpOwogICAgICAgICAgICAKCiAgICAgICAgICAgIG1hcmtlcl80NDA2MWVkMmJhYjk0ZWMxOWFlZDQxYmMzYjgzZmRjYy5iaW5kUG9wdXAocG9wdXBfN2Y2YzRhMGFiNTAwNDk0YjhmMmZiMzUwNGRjMjcwMTEpCiAgICAgICAgICAgIDsKCiAgICAgICAgICAgIAogICAgICAgIAogICAgCiAgICAgICAgICAgIHZhciBjaXJjbGVfbWFya2VyX2I0YjIzNWQzZTYwYzQ0MDc5ZmUxYjEyNGZlZjY2ZDFlID0gTC5jaXJjbGVNYXJrZXIoCiAgICAgICAgICAgICAgICBbMzAuMDYsIDc5LjAxXSwKICAgICAgICAgICAgICAgIHsKICAiYnViYmxpbmdNb3VzZUV2ZW50cyI6IHRydWUsCiAgImNvbG9yIjogInJlZCIsCiAgImRhc2hBcnJheSI6IG51bGwsCiAgImRhc2hPZmZzZXQiOiBudWxsLAogICJmaWxsIjogdHJ1ZSwKICAiZmlsbENvbG9yIjogInJlZCIsCiAgImZpbGxPcGFjaXR5IjogMC4yLAogICJmaWxsUnVsZSI6ICJldmVub2RkIiwKICAibGluZUNhcCI6ICJyb3VuZCIsCiAgImxpbmVKb2luIjogInJvdW5kIiwKICAib3BhY2l0eSI6IDEuMCwKICAicmFkaXVzIjogNSwKICAic3Ryb2tlIjogdHJ1ZSwKICAid2VpZ2h0IjogMwp9CiAgICAgICAgICAgICAgICApCiAgICAgICAgICAgICAgICAuYWRkVG8obWFwXzZmYWUyMzRkMzgzZDQzOTFhNzM3NjY4ZDIyNmZiZmYyKTsKICAgICAgICAgICAgCiAgICAKICAgICAgICB2YXIgbWFya2VyXzI1MmY1MmQ3MmMxMjRiY2Y5MTQ5MDM5N2JmY2Y0YzVhID0gTC5tYXJrZXIoCiAgICAgICAgICAgIFszMC4wNiwgNzkuMDFdLAogICAgICAgICAgICB7CiAgICAgICAgICAgICAgICBpY29uOiBuZXcgTC5JY29uLkRlZmF1bHQoKSwKICAgICAgICAgICAgICAgIH0KICAgICAgICAgICAgKS5hZGRUbyhtYXBfNmZhZTIzNGQzODNkNDM5MWE3Mzc2NjhkMjI2ZmJmZjIpOwogICAgICAgIAogICAgCiAgICAgICAgICAgIHZhciBwb3B1cF8xOGFkMjUzMDQzYTc0ODIyOGZhZDgzMjdkMTg4MTQ0ZSA9IEwucG9wdXAoe21heFdpZHRoOiAnMjAwJwogICAgICAgICAgICAKICAgICAgICAgICAgfSk7CgogICAgICAgICAgICAKICAgICAgICAgICAgICAgIHZhciBodG1sX2ViZWFmNjZjOWExMDRkNzliZjRhODBmMGRmMDI1MDU2ID0gJChgPGRpdiBpZD0iaHRtbF9lYmVhZjY2YzlhMTA0ZDc5YmY0YTgwZjBkZjAyNTA1NiIgc3R5bGU9IndpZHRoOiAxMDAuMCU7IGhlaWdodDogMTAwLjAlOyI+PHN0cm9uZz48Yj5TdGF0ZSAgOiBVdHRhcmFraGFuZDwvc3Ryb25nPiA8YnI+PHN0cm9uZz48Yj5Ub3RhbCBDYXNlcyA6IDMzMDE2PC9zdHJpb25nPjxicj48c3Ryb25nPjxmb250IGNvbG9yPSByZWQ+RGVhdGhzIDogPC9mb250PjQyOTwvc3RyaW9uZz48YnI+PHN0cm9uZz48Zm9udCBjb2xvcj1ncmVlbj5SZWNvdmVyaWVzIDogPC9mb250PjIyMjEzPC9zdHJpb25nPjxicj48c3Ryb25nPjxiPkFjdGl2ZSBDYXNlcyA6IDEwMzc0PC9zdHJpb25nPjwvZGl2PmApWzBdOwogICAgICAgICAgICAgICAgcG9wdXBfMThhZDI1MzA0M2E3NDgyMjhmYWQ4MzI3ZDE4ODE0NGUuc2V0Q29udGVudChodG1sX2ViZWFmNjZjOWExMDRkNzliZjRhODBmMGRmMDI1MDU2KTsKICAgICAgICAgICAgCgogICAgICAgICAgICBtYXJrZXJfMjUyZjUyZDcyYzEyNGJjZjkxNDkwMzk3YmZjZjRjNWEuYmluZFBvcHVwKHBvcHVwXzE4YWQyNTMwNDNhNzQ4MjI4ZmFkODMyN2QxODgxNDRlKQogICAgICAgICAgICA7CgogICAgICAgICAgICAKICAgICAgICAKICAgIAogICAgICAgICAgICB2YXIgY2lyY2xlX21hcmtlcl9jZmNiMDIwMjMzODc0ZDkzODFkZDVjNDg3ZjQ3NDIyOSA9IEwuY2lyY2xlTWFya2VyKAogICAgICAgICAgICAgICAgWzI2Ljg0LCA4MC45NF0sCiAgICAgICAgICAgICAgICB7CiAgImJ1YmJsaW5nTW91c2VFdmVudHMiOiB0cnVlLAogICJjb2xvciI6ICJyZWQiLAogICJkYXNoQXJyYXkiOiBudWxsLAogICJkYXNoT2Zmc2V0IjogbnVsbCwKICAiZmlsbCI6IHRydWUsCiAgImZpbGxDb2xvciI6ICJyZWQiLAogICJmaWxsT3BhY2l0eSI6IDAuMiwKICAiZmlsbFJ1bGUiOiAiZXZlbm9kZCIsCiAgImxpbmVDYXAiOiAicm91bmQiLAogICJsaW5lSm9pbiI6ICJyb3VuZCIsCiAgIm9wYWNpdHkiOiAxLjAsCiAgInJhZGl1cyI6IDUsCiAgInN0cm9rZSI6IHRydWUsCiAgIndlaWdodCI6IDMKfQogICAgICAgICAgICAgICAgKQogICAgICAgICAgICAgICAgLmFkZFRvKG1hcF82ZmFlMjM0ZDM4M2Q0MzkxYTczNzY2OGQyMjZmYmZmMik7CiAgICAgICAgICAgIAogICAgCiAgICAgICAgdmFyIG1hcmtlcl9lYWU2YjBjYTlkYzc0NjQyODBlYzg0NWE2NTk1ZTQ1MiA9IEwubWFya2VyKAogICAgICAgICAgICBbMjYuODQsIDgwLjk0XSwKICAgICAgICAgICAgewogICAgICAgICAgICAgICAgaWNvbjogbmV3IEwuSWNvbi5EZWZhdWx0KCksCiAgICAgICAgICAgICAgICB9CiAgICAgICAgICAgICkuYWRkVG8obWFwXzZmYWUyMzRkMzgzZDQzOTFhNzM3NjY4ZDIyNmZiZmYyKTsKICAgICAgICAKICAgIAogICAgICAgICAgICB2YXIgcG9wdXBfODFmMGNlYTI1ZTU2NDE2M2ExMDAzMzYzNDdhOGZkMWMgPSBMLnBvcHVwKHttYXhXaWR0aDogJzIwMCcKICAgICAgICAgICAgCiAgICAgICAgICAgIH0pOwoKICAgICAgICAgICAgCiAgICAgICAgICAgICAgICB2YXIgaHRtbF9lNDg3MDEzYjFhZTQ0ZjRjODExNjRhYzg1NmM3YjNkZCA9ICQoYDxkaXYgaWQ9Imh0bWxfZTQ4NzAxM2IxYWU0NGY0YzgxMTY0YWM4NTZjN2IzZGQiIHN0eWxlPSJ3aWR0aDogMTAwLjAlOyBoZWlnaHQ6IDEwMC4wJTsiPjxzdHJvbmc+PGI+U3RhdGUgIDogVXR0YXIgUHJhZGVzaDwvc3Ryb25nPiA8YnI+PHN0cm9uZz48Yj5Ub3RhbCBDYXNlcyA6IDMxNzE5NTwvc3RyaW9uZz48YnI+PHN0cm9uZz48Zm9udCBjb2xvcj0gcmVkPkRlYXRocyA6IDwvZm9udD40NDkxPC9zdHJpb25nPjxicj48c3Ryb25nPjxmb250IGNvbG9yPWdyZWVuPlJlY292ZXJpZXMgOiA8L2ZvbnQ+MjQ1NDE3PC9zdHJpb25nPjxicj48c3Ryb25nPjxiPkFjdGl2ZSBDYXNlcyA6IDY3Mjg3PC9zdHJpb25nPjwvZGl2PmApWzBdOwogICAgICAgICAgICAgICAgcG9wdXBfODFmMGNlYTI1ZTU2NDE2M2ExMDAzMzYzNDdhOGZkMWMuc2V0Q29udGVudChodG1sX2U0ODcwMTNiMWFlNDRmNGM4MTE2NGFjODU2YzdiM2RkKTsKICAgICAgICAgICAgCgogICAgICAgICAgICBtYXJrZXJfZWFlNmIwY2E5ZGM3NDY0MjgwZWM4NDVhNjU5NWU0NTIuYmluZFBvcHVwKHBvcHVwXzgxZjBjZWEyNWU1NjQxNjNhMTAwMzM2MzQ3YThmZDFjKQogICAgICAgICAgICA7CgogICAgICAgICAgICAKICAgICAgICAKPC9zY3JpcHQ+ onload=\"this.contentDocument.open();this.contentDocument.write(atob(this.getAttribute('data-html')));this.contentDocument.close();\" allowfullscreen webkitallowfullscreen mozallowfullscreen></iframe></div></div>"
            ],
            "text/plain": [
              "<folium.folium.Map at 0x7f1e2ef398d0>"
            ]
          },
          "metadata": {
            "tags": []
          },
          "execution_count": 8
        }
      ]
    }
  ]
}